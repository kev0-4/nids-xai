{
 "cells": [
  {
   "cell_type": "code",
   "execution_count": 1,
   "metadata": {},
   "outputs": [],
   "source": [
    "import pandas as pd\n",
    "import numpy as np\n",
    "import torch\n",
    "import torch.nn as nn\n",
    "import torch.optim as optim\n",
    "from torch.utils.data import Dataset, DataLoader, TensorDataset\n",
    "from sklearn.model_selection import train_test_split\n",
    "from sklearn.preprocessing import StandardScaler, LabelEncoder\n",
    "from sklearn.metrics import classification_report, confusion_matrix\n",
    "from imblearn.over_sampling import SMOTE\n",
    "import logging\n",
    "import os\n",
    "import time\n",
    "import math\n",
    "from tqdm import tqdm\n",
    "from typing import Tuple, Dict, Any\n",
    "import matplotlib.pyplot as plt\n",
    "import seaborn as sns"
   ]
  },
  {
   "cell_type": "code",
   "execution_count": 2,
   "metadata": {},
   "outputs": [],
   "source": [
    "from torch.cuda.amp import autocast, GradScaler"
   ]
  },
  {
   "cell_type": "code",
   "execution_count": 3,
   "metadata": {},
   "outputs": [
    {
     "name": "stdout",
     "output_type": "stream",
     "text": [
      "Using device: cuda\n"
     ]
    }
   ],
   "source": [
    "# Set up device\n",
    "device = torch.device(\"cuda\" if torch.cuda.is_available() else \"cpu\")\n",
    "print(f\"Using device: {device}\")"
   ]
  },
  {
   "cell_type": "code",
   "execution_count": 4,
   "metadata": {},
   "outputs": [],
   "source": [
    "# Set up logging\n",
    "logging.basicConfig(\n",
    "    level=logging.INFO,\n",
    "    format='%(asctime)s - %(levelname)s - %(message)s',\n",
    "    datefmt='%Y-%m-%d %H:%M:%S'\n",
    ")\n",
    "logger = logging.getLogger(__name__)\n"
   ]
  },
  {
   "cell_type": "code",
   "execution_count": 5,
   "metadata": {},
   "outputs": [],
   "source": [
    "class IntrusionDetectionDataset(Dataset):\n",
    "    \"\"\"Dataset class for IDS data.\"\"\"\n",
    "    \n",
    "    def __init__(self, X_cnn, X_lstm, y):\n",
    "        self.X_cnn = torch.FloatTensor(X_cnn)\n",
    "        self.X_lstm = torch.FloatTensor(X_lstm)\n",
    "        self.y = torch.LongTensor(y)\n",
    "        \n",
    "    def __len__(self):\n",
    "        return len(self.y)\n",
    "        \n",
    "    def __getitem__(self, idx):\n",
    "        return self.X_cnn[idx], self.X_lstm[idx], self.y[idx]\n"
   ]
  },
  {
   "cell_type": "code",
   "execution_count": 6,
   "metadata": {},
   "outputs": [],
   "source": [
    "import torch\n",
    "import torch.nn as nn\n",
    "\n",
    "class HybridCNNBiLSTM(nn.Module):\n",
    "    \"\"\"\n",
    "    Improved Hybrid CNN-BiLSTM model with enhanced regularization to combat overfitting.\n",
    "    \"\"\"\n",
    "    def __init__(self, cnn_input_shape, lstm_input_shape, num_classes):\n",
    "        super(HybridCNNBiLSTM, self).__init__()\n",
    "        \n",
    "        # CNN branch with Batch Normalization and Dropout2d for spatial dropout\n",
    "        self.conv1 = nn.Conv2d(1, 32, kernel_size=3, padding=1)\n",
    "        self.bn1 = nn.BatchNorm2d(32)\n",
    "        self.pool1 = nn.MaxPool2d(kernel_size=2)\n",
    "        self.dropout1 = nn.Dropout2d(0.25)\n",
    "        \n",
    "        self.conv2 = nn.Conv2d(32, 64, kernel_size=3, padding=1)\n",
    "        self.bn2 = nn.BatchNorm2d(64)\n",
    "        self.pool2 = nn.MaxPool2d(kernel_size=2)\n",
    "        self.dropout2 = nn.Dropout2d(0.25)\n",
    "        \n",
    "        # Calculate the flattened CNN output size after two pooling layers\n",
    "        cnn_output_height = cnn_input_shape[1] // 4  # divided by 2 twice\n",
    "        cnn_output_width = cnn_input_shape[2] // 4\n",
    "        self.cnn_output_size = 64 * cnn_output_height * cnn_output_width\n",
    "        \n",
    "        # BiLSTM branch with dropout between layers\n",
    "        self.lstm1 = nn.LSTM(\n",
    "            input_size=lstm_input_shape[1],\n",
    "            hidden_size=64,\n",
    "            batch_first=True,\n",
    "            bidirectional=True\n",
    "        )\n",
    "        # Dropout layer applied on LSTM outputs to prevent overfitting\n",
    "        self.dropout_lstm = nn.Dropout(0.3)\n",
    "        self.lstm2 = nn.LSTM(\n",
    "            input_size=128,  # 64 (hidden) * 2 (bidirectional)\n",
    "            hidden_size=32,\n",
    "            batch_first=True,\n",
    "            bidirectional=True\n",
    "        )\n",
    "        \n",
    "        # Combined fully connected layers\n",
    "        # Note: The BiLSTM output is 32*2 = 64 features (from last time step)\n",
    "        combined_size = self.cnn_output_size + 64\n",
    "        self.fc1 = nn.Linear(combined_size, 128)\n",
    "        self.dropout_fc = nn.Dropout(0.5)\n",
    "        self.fc2 = nn.Linear(128, num_classes)\n",
    "        \n",
    "        # Activation function\n",
    "        self.relu = nn.ReLU()\n",
    "        \n",
    "    def forward(self, x_cnn, x_lstm):\n",
    "        # CNN branch\n",
    "        x1 = self.conv1(x_cnn)\n",
    "        x1 = self.bn1(x1)\n",
    "        x1 = self.relu(x1)\n",
    "        x1 = self.pool1(x1)\n",
    "        x1 = self.dropout1(x1)\n",
    "        \n",
    "        x1 = self.conv2(x1)\n",
    "        x1 = self.bn2(x1)\n",
    "        x1 = self.relu(x1)\n",
    "        x1 = self.pool2(x1)\n",
    "        x1 = self.dropout2(x1)\n",
    "        x1 = x1.view(x1.size(0), -1)  # Flatten\n",
    "        \n",
    "        # BiLSTM branch\n",
    "        x2, _ = self.lstm1(x_lstm)\n",
    "        x2 = self.dropout_lstm(x2)\n",
    "        x2, _ = self.lstm2(x2)\n",
    "        x2 = x2[:, -1, :]  # Use the output from the last time step\n",
    "        \n",
    "        # Feature fusion and classification\n",
    "        combined = torch.cat((x1, x2), dim=1)\n",
    "        x = self.fc1(combined)\n",
    "        x = self.relu(x)\n",
    "        x = self.dropout_fc(x)\n",
    "        x = self.fc2(x)\n",
    "        \n",
    "        return x"
   ]
  },
  {
   "cell_type": "code",
   "execution_count": 7,
   "metadata": {},
   "outputs": [],
   "source": [
    "class IntrusionDetectionSystem:\n",
    "    def __init__(self, config: Dict[str, Any]):\n",
    "        \"\"\"\n",
    "        Initialize the IDS with configuration parameters.\n",
    "        \n",
    "        Args:\n",
    "            config: Dictionary containing model configuration\n",
    "        \"\"\"\n",
    "        self.config = config\n",
    "        self.scaler = StandardScaler()\n",
    "        self.label_encoder = LabelEncoder()\n",
    "        \n",
    "    def load_data(self, filepath: str) -> pd.DataFrame:\n",
    "        \"\"\"\n",
    "        Load and perform initial cleaning of the CICIDS2017 dataset.\n",
    "        \n",
    "        Args:\n",
    "            filepath: Path to the CSV file\n",
    "            \n",
    "        Returns:\n",
    "            Cleaned DataFrame\n",
    "        \"\"\"\n",
    "        try:\n",
    "            logger.info(\"Loading pre-processed dataset...\")\n",
    "            print(\"\\nReading CSV file...\")\n",
    "            df = pd.read_csv(filepath)\n",
    "            \n",
    "            # Log dataset information\n",
    "            logger.info(f\"Loaded {len(df):,} rows and {len(df.columns):,} columns\")\n",
    "            logger.info(f\"Memory usage: {df.memory_usage().sum() / 1024**2:.2f} MB\")\n",
    "            \n",
    "            return df\n",
    "            \n",
    "        except Exception as e:\n",
    "            logger.error(f\"Error loading data: {str(e)}\")\n",
    "            raise\n",
    "            \n",
    "    def preprocess_data(self, df: pd.DataFrame) -> Tuple[np.ndarray, np.ndarray]:\n",
    "        \"\"\"\n",
    "        Preprocess the data for training.\n",
    "        \n",
    "        Args:\n",
    "            df: Input DataFrame\n",
    "            \n",
    "        Returns:\n",
    "            Tuple of (features, labels)\n",
    "        \"\"\"\n",
    "        try:\n",
    "            print(\"\\nPreprocessing data...\")\n",
    "            # Separate features and labels\n",
    "            X = df.drop(self.config['label_column'], axis=1)\n",
    "            y = df[self.config['label_column']]\n",
    "            \n",
    "            # Scale features\n",
    "            print(\"Scaling features...\")\n",
    "            X_scaled = self.scaler.fit_transform(X)\n",
    "            \n",
    "            # Encode labels\n",
    "            print(\"Encoding labels...\")\n",
    "            y_encoded = self.label_encoder.fit_transform(y)\n",
    "            \n",
    "            # Log class distribution\n",
    "            unique_labels, counts = np.unique(y_encoded, return_counts=True)\n",
    "            logger.info(\"\\nClass distribution:\")\n",
    "            for label, count in zip(self.label_encoder.classes_, counts):\n",
    "                logger.info(f\"{label}: {count:,} samples\")\n",
    "            \n",
    "            return X_scaled, y_encoded\n",
    "            \n",
    "        except Exception as e:\n",
    "            logger.error(f\"Error preprocessing data: {str(e)}\")\n",
    "            raise\n",
    "\n",
    "    def reshape_data(self, X: np.ndarray) -> Tuple[np.ndarray, np.ndarray]:\n",
    "        \"\"\"\n",
    "        Reshape data for CNN and BiLSTM branches with memory efficiency.\n",
    "        \n",
    "        Args:\n",
    "            X: Input features\n",
    "            \n",
    "        Returns:\n",
    "            Tuple of (CNN_shaped_data, LSTM_shaped_data)\n",
    "        \"\"\"\n",
    "        try:\n",
    "            print(\"\\nReshaping data for neural networks...\")\n",
    "            \n",
    "            # Convert to float32 to reduce memory by half\n",
    "            X = X.astype(np.float32)\n",
    "            \n",
    "            # Process in chunks for both CNN and LSTM\n",
    "            chunk_size = 10000  # Adjust based on your available memory\n",
    "            num_chunks = (X.shape[0] + chunk_size - 1) // chunk_size\n",
    "            \n",
    "            # Calculate dimensions once\n",
    "            features_sqrt = math.ceil(np.sqrt(X.shape[1]))\n",
    "            padding_cnn = features_sqrt ** 2 - X.shape[1]\n",
    "            \n",
    "            # For LSTM reshaping\n",
    "            timesteps = self.config['timesteps']\n",
    "            if X.shape[1] % timesteps != 0:\n",
    "                new_total = math.ceil(X.shape[1] / timesteps) * timesteps\n",
    "                padding_lstm = new_total - X.shape[1]\n",
    "            else:\n",
    "                new_total = X.shape[1]\n",
    "                padding_lstm = 0\n",
    "                \n",
    "            # Pre-allocate output arrays\n",
    "            X_cnn_shape = (X.shape[0], 1, features_sqrt, features_sqrt)\n",
    "            X_lstm_shape = (X.shape[0], timesteps, new_total // timesteps)\n",
    "            \n",
    "            X_cnn = np.zeros(X_cnn_shape, dtype=np.float32)\n",
    "            X_lstm = np.zeros(X_lstm_shape, dtype=np.float32)\n",
    "            \n",
    "            # Process in chunks\n",
    "            for i in range(num_chunks):\n",
    "                start_idx = i * chunk_size\n",
    "                end_idx = min((i + 1) * chunk_size, X.shape[0])\n",
    "                chunk = X[start_idx:end_idx]\n",
    "                \n",
    "                # CNN reshaping for this chunk\n",
    "                if padding_cnn > 0:\n",
    "                    chunk_padded_cnn = np.pad(chunk, ((0, 0), (0, padding_cnn)), mode='constant')\n",
    "                else:\n",
    "                    chunk_padded_cnn = chunk.copy()\n",
    "                    \n",
    "                X_cnn[start_idx:end_idx] = chunk_padded_cnn.reshape(-1, 1, features_sqrt, features_sqrt)\n",
    "                \n",
    "                # LSTM reshaping for this chunk\n",
    "                if padding_lstm > 0:\n",
    "                    chunk_padded_lstm = np.pad(chunk, ((0, 0), (0, padding_lstm)), mode='constant')\n",
    "                else:\n",
    "                    chunk_padded_lstm = chunk.copy()\n",
    "                    \n",
    "                X_lstm[start_idx:end_idx] = chunk_padded_lstm.reshape(-1, timesteps, new_total // timesteps)\n",
    "                \n",
    "                # Force garbage collection after each chunk\n",
    "                del chunk, chunk_padded_cnn, chunk_padded_lstm\n",
    "                if i % 10 == 0:  # Every 10 chunks\n",
    "                    import gc\n",
    "                    gc.collect()\n",
    "                    print(f\"Processed chunk {i+1}/{num_chunks}\")\n",
    "            \n",
    "            return X_cnn, X_lstm\n",
    "                \n",
    "        except Exception as e:\n",
    "            logger.error(f\"Error reshaping data: {str(e)}\")\n",
    "            raise        \n",
    "    \n",
    "            \n",
    "    def handle_class_imbalance(self, X: np.ndarray, y: np.ndarray) -> Tuple[np.ndarray, np.ndarray]:\n",
    "        \"\"\"\n",
    "        Handle class imbalance using Focal Loss preparation.\n",
    "        This approach computes class weights for Focal Loss instead of using SMOTE.\n",
    "        \n",
    "        Args:\n",
    "            X: Features\n",
    "            y: Labels\n",
    "            \n",
    "        Returns:\n",
    "            Tuple of (original_features, original_labels)\n",
    "        \"\"\"\n",
    "        try:\n",
    "            print(\"\\nHandling class imbalance...\")\n",
    "            start_time = time.time()\n",
    "            \n",
    "            logger.info(\"Class distribution:\")\n",
    "            unique_labels, counts = np.unique(y, return_counts=True)\n",
    "            for label, count in zip(unique_labels, counts):\n",
    "                logger.info(f\"Class {label}: {count:,} samples\")\n",
    "            \n",
    "            # Calculate class weights for Focal Loss\n",
    "            total_samples = len(y)\n",
    "            n_classes = len(unique_labels)\n",
    "            class_weights = {}\n",
    "            \n",
    "            # Calculate inverse frequency weights\n",
    "            for label, count in zip(unique_labels, counts):\n",
    "                # Class weight is inversely proportional to frequency\n",
    "                weight = total_samples / (n_classes * count)\n",
    "                # Store to be used in the model training\n",
    "                class_weights[int(label)] = weight\n",
    "                logger.info(f\"Class {label} weight: {weight:.4f}\")\n",
    "            \n",
    "            # Store class weights as an attribute to be used during training\n",
    "            self.class_weights = class_weights\n",
    "            \n",
    "            duration = time.time() - start_time\n",
    "            logger.info(f\"Class weight calculation completed in {duration:.2f} seconds\")\n",
    "            \n",
    "            # Return original data - no resampling needed with Focal Loss\n",
    "            return X, y\n",
    "                \n",
    "        except Exception as e:\n",
    "            logger.error(f\"Error handling class imbalance: {str(e)}\")\n",
    "            raise\n",
    "    \n",
    "    def create_dataloaders(self, X_train_cnn, X_train_lstm, y_train, \n",
    "                      X_val_cnn, X_val_lstm, y_val,\n",
    "                      X_test_cnn, X_test_lstm, y_test):\n",
    "        \"\"\"\n",
    "        Create PyTorch DataLoaders for training, validation and testing.\n",
    "        \n",
    "        Returns:\n",
    "            Tuple of (train_loader, val_loader, test_loader)\n",
    "        \"\"\"\n",
    "        try:\n",
    "            print(\"\\nCreating PyTorch DataLoaders...\")\n",
    "            \n",
    "            # Create datasets\n",
    "            train_dataset = IntrusionDetectionDataset(X_train_cnn, X_train_lstm, y_train)\n",
    "            val_dataset = IntrusionDetectionDataset(X_val_cnn, X_val_lstm, y_val)\n",
    "            test_dataset = IntrusionDetectionDataset(X_test_cnn, X_test_lstm, y_test)\n",
    "            \n",
    "            # Get system-specific settings\n",
    "            import platform\n",
    "            is_windows = platform.system() == 'Windows'\n",
    "            \n",
    "            # On Windows, multiprocessing needs to use 'spawn' method\n",
    "            if is_windows:\n",
    "                import torch.multiprocessing as mp\n",
    "                mp.set_start_method('spawn', force=True)\n",
    "            \n",
    "            # Determine safe num_workers based on system\n",
    "            if is_windows:\n",
    "                # On Windows, num_workers often causes issues, use 0 for safety\n",
    "                # or set to 1 for minimal parallelism\n",
    "                safe_workers = 0\n",
    "            else:\n",
    "                # On Unix systems, we can use the configured value\n",
    "                safe_workers = self.config.get('num_workers', 0)\n",
    "            \n",
    "            print(f\"Using {safe_workers} DataLoader workers (adjusted for platform compatibility)\")\n",
    "            \n",
    "            # Create dataloaders using config parameters with platform-specific adjustments\n",
    "            train_loader = DataLoader(\n",
    "                train_dataset, \n",
    "                batch_size=self.config.get('batch_size', 32),\n",
    "                shuffle=True,\n",
    "                num_workers=safe_workers,\n",
    "                pin_memory=self.config.get('pin_memory', True),\n",
    "                persistent_workers=safe_workers > 0,  # Keep workers alive between iterations if using workers\n",
    "                prefetch_factor=2 if safe_workers > 0 else None,  # Prefetch 2 batches per worker\n",
    "            )\n",
    "            \n",
    "            val_loader = DataLoader(\n",
    "                val_dataset, \n",
    "                batch_size=self.config.get('batch_size', 32), \n",
    "                shuffle=False,\n",
    "                num_workers=safe_workers,\n",
    "                pin_memory=self.config.get('pin_memory', True),\n",
    "                persistent_workers=safe_workers > 0,\n",
    "                prefetch_factor=2 if safe_workers > 0 else None,\n",
    "            )\n",
    "            \n",
    "            test_loader = DataLoader(\n",
    "                test_dataset, \n",
    "                batch_size=self.config.get('batch_size', 32), \n",
    "                shuffle=False,\n",
    "                num_workers=safe_workers,\n",
    "                pin_memory=self.config.get('pin_memory', True),\n",
    "                persistent_workers=safe_workers > 0,\n",
    "                prefetch_factor=2 if safe_workers > 0 else None,\n",
    "            )\n",
    "            \n",
    "            logger.info(f\"Created DataLoaders with {len(train_loader)} training batches, \"\n",
    "                    f\"{len(val_loader)} validation batches, and {len(test_loader)} test batches\")\n",
    "            \n",
    "            return train_loader, val_loader, test_loader\n",
    "            \n",
    "        except Exception as e:\n",
    "            logger.error(f\"Error creating DataLoaders: {str(e)}\")\n",
    "            raise\n",
    "    #insert here        \n",
    "    def train_and_evaluate(self, train_loader, val_loader, test_loader, cnn_input_shape, lstm_input_shape, num_classes):\n",
    "        \"\"\"Train the model and evaluate its performance using Automatic Mixed Precision.\"\"\"\n",
    "        try:\n",
    "            print(\"\\nStarting model training with Automatic Mixed Precision...\")\n",
    "            device = torch.device(\"cuda\" if torch.cuda.is_available() else \"cpu\")\n",
    "            \n",
    "            # Initialize model\n",
    "            model = HybridCNNBiLSTM(cnn_input_shape, lstm_input_shape, num_classes).to(device)\n",
    "            \n",
    "            # Set up optimizer and scheduler with gradient accumulation\n",
    "            optimizer = optim.Adam(model.parameters(), lr=self.config['learning_rate'], weight_decay=1e-4)\n",
    "            scheduler = optim.lr_scheduler.ReduceLROnPlateau(optimizer, patience=3, factor=0.5, verbose=True)\n",
    "\n",
    "            # Replacing standard CrossEntropyLoss with weighted version\n",
    "            class_weights = torch.FloatTensor([self.class_weights[i] for i in range(len(self.class_weights))]).to(device)\n",
    "            criterion = nn.CrossEntropyLoss(weight=class_weights)\n",
    "            \n",
    "            # Check if mixed precision should be used (based on config and availability)\n",
    "            use_amp = self.config.get('mixed_precision', False) and torch.cuda.is_available()\n",
    "            \n",
    "            # Initialize the scaler for AMP if needed\n",
    "            if use_amp:\n",
    "                print(\"Using Automatic Mixed Precision (AMP) for training\")\n",
    "                # Use the updated import pattern for autocast to avoid deprecation warning\n",
    "                from torch.amp import autocast\n",
    "                scaler = torch.cuda.amp.GradScaler()\n",
    "            else:\n",
    "                print(\"Using full precision for training\")\n",
    "                scaler = None\n",
    "            \n",
    "            # Validate dataset before training\n",
    "            print(\"Validating dataset for correct class indices...\")\n",
    "            try:\n",
    "                for batch_idx, (x_cnn, x_lstm, targets) in enumerate(train_loader):\n",
    "                    min_target = targets.min().item()\n",
    "                    max_target = targets.max().item()\n",
    "                    if min_target < 0 or max_target >= num_classes:\n",
    "                        raise ValueError(f\"Invalid targets in batch {batch_idx}: range [{min_target}, {max_target}], \"\n",
    "                                        f\"should be [0, {num_classes-1}]\")\n",
    "                    \n",
    "                    # Only check a few batches to save time\n",
    "                    if batch_idx >= 5:\n",
    "                        break\n",
    "                print(\"Dataset validation complete - no invalid class indices found\")\n",
    "            except Exception as e:\n",
    "                logger.error(f\"Dataset validation error: {str(e)}\")\n",
    "                raise\n",
    "            \n",
    "            # Training loop with memory management\n",
    "            history = []\n",
    "            best_val_loss = float('inf')\n",
    "            accumulation_steps = 8  # Accumulate gradients over multiple batches\n",
    "            \n",
    "            for epoch in range(self.config['epochs']):\n",
    "                # Training\n",
    "                model.train()\n",
    "                train_loss = 0.0\n",
    "                train_correct = 0\n",
    "                train_total = 0\n",
    "                \n",
    "                progress_bar = tqdm(enumerate(train_loader), total=len(train_loader), \n",
    "                                desc=f\"Epoch {epoch+1}/{self.config['epochs']}\")\n",
    "                \n",
    "                optimizer.zero_grad()  # Reset gradients at the start of each epoch\n",
    "                \n",
    "                for batch_idx, (x_cnn, x_lstm, targets) in progress_bar:\n",
    "                    try:\n",
    "                        # Sanity check for targets\n",
    "                        if torch.max(targets).item() >= num_classes or torch.min(targets).item() < 0:\n",
    "                            problematic_indices = torch.where((targets >= num_classes) | (targets < 0))[0]\n",
    "                            logger.error(f\"Invalid target values in batch {batch_idx}, indices: {problematic_indices.tolist()}\")\n",
    "                            # Skip this batch and continue with next\n",
    "                            continue\n",
    "                        \n",
    "                        # Move to device\n",
    "                        x_cnn, x_lstm, targets = x_cnn.to(device), x_lstm.to(device), targets.to(device)\n",
    "                        \n",
    "                        # Forward pass with or without mixed precision\n",
    "                        if use_amp:\n",
    "                            with autocast(device_type='cuda'):\n",
    "                                outputs = model(x_cnn, x_lstm)\n",
    "                                loss = criterion(outputs, targets)\n",
    "                        else:\n",
    "                            outputs = model(x_cnn, x_lstm)\n",
    "                            loss = criterion(outputs, targets)\n",
    "                        \n",
    "                        # Safeguard against NaN or Inf loss\n",
    "                        if not torch.isfinite(loss):\n",
    "                            logger.error(f\"Non-finite loss detected in batch {batch_idx}: {loss.item()}\")\n",
    "                            continue\n",
    "                        \n",
    "                        # Normalize loss to account for accumulation\n",
    "                        normalized_loss = loss / accumulation_steps\n",
    "                        \n",
    "                        # Backward pass with or without scaled gradients\n",
    "                        if use_amp:\n",
    "                            scaler.scale(normalized_loss).backward()\n",
    "                        else:\n",
    "                            normalized_loss.backward()\n",
    "                        \n",
    "                        # Only update weights after accumulation_steps\n",
    "                        if (batch_idx + 1) % accumulation_steps == 0 or batch_idx + 1 == len(train_loader):\n",
    "                            if use_amp:\n",
    "                                # Unscales the gradients\n",
    "                                scaler.unscale_(optimizer)\n",
    "                                \n",
    "                                # Optional: gradient clipping to prevent exploding gradients\n",
    "                                torch.nn.utils.clip_grad_norm_(model.parameters(), max_norm=1.0)\n",
    "                                \n",
    "                                # Updates parameters and resets gradients\n",
    "                                scaler.step(optimizer)\n",
    "                                scaler.update()\n",
    "                            else:\n",
    "                                # Regular optimization step\n",
    "                                torch.nn.utils.clip_grad_norm_(model.parameters(), max_norm=1.0)\n",
    "                                optimizer.step()\n",
    "                                \n",
    "                            optimizer.zero_grad()\n",
    "                        \n",
    "                        # Update metrics (use the original loss value for metrics)\n",
    "                        train_loss += loss.item()\n",
    "                        _, predicted = outputs.max(1)\n",
    "                        train_total += targets.size(0)\n",
    "                        train_correct += predicted.eq(targets).sum().item()\n",
    "                        \n",
    "                        # Update progress bar\n",
    "                        progress_bar.set_postfix({\n",
    "                            'loss': train_loss / (batch_idx + 1), \n",
    "                            'acc': 100. * train_correct / train_total\n",
    "                        })\n",
    "                        \n",
    "                        # Clear cache periodically\n",
    "                        if batch_idx % 100 == 0:\n",
    "                            torch.cuda.empty_cache() if torch.cuda.is_available() else None\n",
    "                            \n",
    "                    except Exception as e:\n",
    "                        logger.error(f\"Error in batch {batch_idx}: {str(e)}\")\n",
    "                        # Print shapes safely\n",
    "                        logger.error(f\"Input shapes - CNN: {x_cnn.shape}, LSTM: {x_lstm.shape}, Targets: {targets.shape}\")\n",
    "                        # Move to CPU before logging tensor values\n",
    "                        try:\n",
    "                            targets_cpu = targets.detach().cpu().numpy()\n",
    "                            logger.error(f\"Target unique values: {np.unique(targets_cpu)}\")\n",
    "                        except:\n",
    "                            logger.error(\"Could not convert targets to CPU\")\n",
    "                        # Continue with next batch instead of stopping completely\n",
    "                        continue\n",
    "                \n",
    "                # Validation phase\n",
    "                model.eval()\n",
    "                val_loss = 0.0\n",
    "                val_correct = 0\n",
    "                val_total = 0\n",
    "                \n",
    "                with torch.no_grad():\n",
    "                    for batch_idx, (x_cnn, x_lstm, targets) in enumerate(val_loader):\n",
    "                        try:\n",
    "                            # Sanity check for targets\n",
    "                            if torch.max(targets).item() >= num_classes or torch.min(targets).item() < 0:\n",
    "                                logger.error(f\"Invalid validation target values in batch {batch_idx}\")\n",
    "                                continue\n",
    "                                \n",
    "                            # Move to device\n",
    "                            x_cnn, x_lstm, targets = x_cnn.to(device), x_lstm.to(device), targets.to(device)\n",
    "                            \n",
    "                            # Forward pass (consistent evaluation, with or without autocast)\n",
    "                            if use_amp:\n",
    "                                with autocast(device_type='cuda'):\n",
    "                                    outputs = model(x_cnn, x_lstm)\n",
    "                                    loss = criterion(outputs, targets)\n",
    "                            else:\n",
    "                                outputs = model(x_cnn, x_lstm)\n",
    "                                loss = criterion(outputs, targets)\n",
    "                            \n",
    "                            # Update metrics\n",
    "                            val_loss += loss.item()\n",
    "                            _, predicted = outputs.max(1)\n",
    "                            val_total += targets.size(0)\n",
    "                            val_correct += predicted.eq(targets).sum().item()\n",
    "                        except Exception as e:\n",
    "                            logger.error(f\"Error in validation batch {batch_idx}: {str(e)}\")\n",
    "                            continue\n",
    "                \n",
    "                # Calculate metrics\n",
    "                epoch_train_loss = train_loss / len(train_loader)\n",
    "                epoch_train_acc = 100. * train_correct / train_total if train_total > 0 else 0\n",
    "                epoch_val_loss = val_loss / len(val_loader)\n",
    "                epoch_val_acc = 100. * val_correct / val_total if val_total > 0 else 0\n",
    "                \n",
    "                # Update learning rate based on validation loss\n",
    "                scheduler.step(epoch_val_loss)\n",
    "                \n",
    "                # Print metrics\n",
    "                print(f\"Epoch {epoch+1}/{self.config['epochs']} - \"\n",
    "                    f\"Train Loss: {epoch_train_loss:.4f}, Train Acc: {epoch_train_acc:.2f}%, \"\n",
    "                    f\"Val Loss: {epoch_val_loss:.4f}, Val Acc: {epoch_val_acc:.2f}%\")\n",
    "                \n",
    "                # Save metrics\n",
    "                history.append({\n",
    "                    'epoch': epoch + 1,\n",
    "                    'train_loss': epoch_train_loss,\n",
    "                    'train_acc': epoch_train_acc,\n",
    "                    'val_loss': epoch_val_loss,\n",
    "                    'val_acc': epoch_val_acc\n",
    "                })\n",
    "                \n",
    "                # Save best model\n",
    "                if epoch_val_loss < best_val_loss:\n",
    "                    best_val_loss = epoch_val_loss\n",
    "                    torch.save(model.state_dict(), 'best_model.pth')\n",
    "                    print(f\"Model saved with validation loss: {best_val_loss:.4f}\")\n",
    "                    \n",
    "                # Early stopping\n",
    "                if len(history) > 5:\n",
    "                    recent_val_losses = [h['val_loss'] for h in history[-5:]]\n",
    "                    if all(recent_val_losses[i] > recent_val_losses[i-1] for i in range(1, len(recent_val_losses))):\n",
    "                        print(\"Early stopping due to increasing validation loss\")\n",
    "                        break\n",
    "            \n",
    "            # Test the model on test set\n",
    "            model.load_state_dict(torch.load('best_model.pth'))\n",
    "            model.eval()\n",
    "            test_loss = 0\n",
    "            test_correct = 0\n",
    "            test_total = 0\n",
    "            all_predictions = []\n",
    "            all_targets = []\n",
    "            \n",
    "            with torch.no_grad():\n",
    "                for batch_idx, (x_cnn, x_lstm, targets) in enumerate(test_loader):\n",
    "                    try:\n",
    "                        # Sanity check for targets\n",
    "                        if torch.max(targets).item() >= num_classes or torch.min(targets).item() < 0:\n",
    "                            logger.error(f\"Invalid test target values in batch {batch_idx}\")\n",
    "                            continue\n",
    "                            \n",
    "                        x_cnn, x_lstm, targets = x_cnn.to(device), x_lstm.to(device), targets.to(device)\n",
    "                        \n",
    "                        # Consistent evaluation approach\n",
    "                        if use_amp:\n",
    "                            with autocast(device_type='cuda'):\n",
    "                                outputs = model(x_cnn, x_lstm)\n",
    "                                loss = criterion(outputs, targets)\n",
    "                        else:\n",
    "                            outputs = model(x_cnn, x_lstm)\n",
    "                            loss = criterion(outputs, targets)\n",
    "                        \n",
    "                        test_loss += loss.item()\n",
    "                        _, predicted = outputs.max(1)\n",
    "                        test_total += targets.size(0)\n",
    "                        test_correct += predicted.eq(targets).sum().item()\n",
    "                        \n",
    "                        all_predictions.extend(predicted.cpu().numpy())\n",
    "                        all_targets.extend(targets.cpu().numpy())\n",
    "                    except Exception as e:\n",
    "                        logger.error(f\"Error in testing batch {batch_idx}: {str(e)}\")\n",
    "                        continue\n",
    "            \n",
    "            test_loss = test_loss / len(test_loader) if len(test_loader) > 0 else float('inf')\n",
    "            test_acc = 100. * test_correct / test_total if test_total > 0 else 0\n",
    "            \n",
    "            print(f\"\\nTest Loss: {test_loss:.4f}, Test Accuracy: {test_acc:.2f}%\")\n",
    "            \n",
    "            return model, history\n",
    "        \n",
    "        except Exception as e:\n",
    "            logger.error(f\"Error during training and evaluation: {str(e)}\")\n",
    "            # Print current stack trace for more detailed debugging\n",
    "            import traceback\n",
    "            logger.error(f\"Stack trace: {traceback.format_exc()}\")\n",
    "            raise\n",
    "        \n",
    "    def _plot_training_history(self, history):\n",
    "        \"\"\"Plot and save training history metrics.\"\"\"\n",
    "        try:\n",
    "            # Create figure with 2 subplots\n",
    "            fig, (ax1, ax2) = plt.subplots(2, 1, figsize=(12, 10))\n",
    "            \n",
    "            # Plot losses\n",
    "            ax1.plot(history['train_loss'], label='Training Loss')\n",
    "            ax1.plot(history['val_loss'], label='Validation Loss')\n",
    "            ax1.set_title('Loss Over Epochs')\n",
    "            ax1.set_xlabel('Epoch')\n",
    "            ax1.set_ylabel('Loss')\n",
    "            ax1.legend()\n",
    "            ax1.grid(True)\n",
    "            \n",
    "            # Plot accuracies\n",
    "            ax2.plot(history['train_acc'], label='Training Accuracy')\n",
    "            ax2.plot(history['val_acc'], label='Validation Accuracy')\n",
    "            ax2.set_title('Accuracy Over Epochs')\n",
    "            ax2.set_xlabel('Epoch')\n",
    "            ax2.set_ylabel('Accuracy (%)')\n",
    "            ax2.legend()\n",
    "            ax2.grid(True)\n",
    "            \n",
    "            plt.tight_layout()\n",
    "            plt.savefig(\"training_history.png\", dpi=300, bbox_inches=\"tight\")\n",
    "            logger.info(\"Training history plot saved to 'training_history.png'\")\n",
    "            \n",
    "        except Exception as e:\n",
    "            logger.error(f\"Error plotting training history: {str(e)}\")\n",
    "            \n",
    "    def save_model(self, model, path=\"ids_model.pth\"):\n",
    "        \"\"\"Save the PyTorch model.\"\"\"\n",
    "        try:\n",
    "            # Save model state dict\n",
    "            torch.save({\n",
    "                'model_state_dict': model.state_dict(),\n",
    "                'scaler': self.scaler,\n",
    "                'label_encoder': self.label_encoder,\n",
    "                'config': self.config\n",
    "            }, path)\n",
    "            \n",
    "            logger.info(f\"Model saved successfully to '{path}'\")\n",
    "            \n",
    "        except Exception as e:\n",
    "            logger.error(f\"Error saving model: {str(e)}\")\n",
    "            raise"
   ]
  },
  {
   "cell_type": "code",
   "execution_count": 8,
   "metadata": {},
   "outputs": [
    {
     "name": "stderr",
     "output_type": "stream",
     "text": [
      "2025-03-10 01:20:59 - INFO - Loading pre-processed dataset...\n"
     ]
    },
    {
     "name": "stdout",
     "output_type": "stream",
     "text": [
      "\n",
      "=== Starting Intrusion Detection System Training ===\n",
      "\n",
      "Reading CSV file...\n"
     ]
    },
    {
     "name": "stderr",
     "output_type": "stream",
     "text": [
      "2025-03-10 01:21:05 - INFO - Loaded 2,520,751 rows and 53 columns\n",
      "2025-03-10 01:21:05 - INFO - Memory usage: 1019.29 MB\n"
     ]
    },
    {
     "name": "stdout",
     "output_type": "stream",
     "text": [
      "\n",
      "Preprocessing data...\n",
      "Scaling features...\n",
      "Encoding labels...\n"
     ]
    },
    {
     "name": "stderr",
     "output_type": "stream",
     "text": [
      "2025-03-10 01:21:07 - INFO - \n",
      "Class distribution:\n",
      "2025-03-10 01:21:07 - INFO - Bots: 1,948 samples\n",
      "2025-03-10 01:21:07 - INFO - Brute Force: 9,150 samples\n",
      "2025-03-10 01:21:07 - INFO - DDoS: 128,014 samples\n",
      "2025-03-10 01:21:07 - INFO - DoS: 193,745 samples\n",
      "2025-03-10 01:21:07 - INFO - Normal Traffic: 2,095,057 samples\n",
      "2025-03-10 01:21:07 - INFO - Port Scanning: 90,694 samples\n",
      "2025-03-10 01:21:07 - INFO - Web Attacks: 2,143 samples\n",
      "2025-03-10 01:21:07 - INFO - Class distribution:\n",
      "2025-03-10 01:21:07 - INFO - Class 0: 1,948 samples\n",
      "2025-03-10 01:21:07 - INFO - Class 1: 9,150 samples\n",
      "2025-03-10 01:21:07 - INFO - Class 2: 128,014 samples\n",
      "2025-03-10 01:21:07 - INFO - Class 3: 193,745 samples\n",
      "2025-03-10 01:21:07 - INFO - Class 4: 2,095,057 samples\n",
      "2025-03-10 01:21:07 - INFO - Class 5: 90,694 samples\n",
      "2025-03-10 01:21:07 - INFO - Class 6: 2,143 samples\n",
      "2025-03-10 01:21:07 - INFO - Class 0 weight: 184.8600\n",
      "2025-03-10 01:21:07 - INFO - Class 1 weight: 39.3560\n",
      "2025-03-10 01:21:07 - INFO - Class 2 weight: 2.8130\n",
      "2025-03-10 01:21:07 - INFO - Class 3 weight: 1.8587\n",
      "2025-03-10 01:21:07 - INFO - Class 4 weight: 0.1719\n",
      "2025-03-10 01:21:07 - INFO - Class 5 weight: 3.9706\n",
      "2025-03-10 01:21:07 - INFO - Class 6 weight: 168.0389\n",
      "2025-03-10 01:21:07 - INFO - Class weight calculation completed in 0.02 seconds\n"
     ]
    },
    {
     "name": "stdout",
     "output_type": "stream",
     "text": [
      "\n",
      "Checking class distribution...\n",
      "Detected significant class imbalance. Applying SMOTE...\n",
      "\n",
      "Handling class imbalance...\n",
      "\n",
      "Splitting data into training and test sets...\n"
     ]
    },
    {
     "name": "stderr",
     "output_type": "stream",
     "text": [
      "2025-03-10 01:21:09 - INFO - Training set size: 1,613,280 samples\n",
      "2025-03-10 01:21:09 - INFO - Validation set size: 403,320 samples\n",
      "2025-03-10 01:21:09 - INFO - Test set size: 504,151 samples\n"
     ]
    },
    {
     "name": "stdout",
     "output_type": "stream",
     "text": [
      "\n",
      "Reshaping data for neural networks...\n",
      "Processed chunk 1/162\n",
      "Processed chunk 11/162\n",
      "Processed chunk 21/162\n",
      "Processed chunk 31/162\n",
      "Processed chunk 41/162\n",
      "Processed chunk 51/162\n",
      "Processed chunk 61/162\n",
      "Processed chunk 71/162\n",
      "Processed chunk 81/162\n",
      "Processed chunk 91/162\n",
      "Processed chunk 101/162\n",
      "Processed chunk 111/162\n",
      "Processed chunk 121/162\n",
      "Processed chunk 131/162\n",
      "Processed chunk 141/162\n",
      "Processed chunk 151/162\n",
      "Processed chunk 161/162\n",
      "\n",
      "Reshaping data for neural networks...\n",
      "Processed chunk 1/41\n",
      "Processed chunk 11/41\n",
      "Processed chunk 21/41\n",
      "Processed chunk 31/41\n",
      "Processed chunk 41/41\n",
      "\n",
      "Reshaping data for neural networks...\n",
      "Processed chunk 1/51\n",
      "Processed chunk 11/51\n",
      "Processed chunk 21/51\n",
      "Processed chunk 31/51\n"
     ]
    },
    {
     "name": "stderr",
     "output_type": "stream",
     "text": [
      "2025-03-10 01:21:11 - INFO - Created DataLoaders with 12604 training batches, 3151 validation batches, and 3939 test batches\n"
     ]
    },
    {
     "name": "stdout",
     "output_type": "stream",
     "text": [
      "Processed chunk 41/51\n",
      "Processed chunk 51/51\n",
      "X_train_lstm shape: (1613280, 10, 6)\n",
      "lstm_input_shape: (10, 6)\n",
      "\n",
      "Creating PyTorch DataLoaders...\n",
      "Using 0 DataLoader workers (adjusted for platform compatibility)\n",
      "\n",
      "Starting model training with Automatic Mixed Precision...\n"
     ]
    },
    {
     "name": "stderr",
     "output_type": "stream",
     "text": [
      "c:\\Users\\Soham\\miniconda3\\envs\\tf\\lib\\site-packages\\torch\\optim\\lr_scheduler.py:60: UserWarning: The verbose parameter is deprecated. Please use get_last_lr() to access the learning rate.\n",
      "  warnings.warn(\n",
      "C:\\Users\\Soham\\AppData\\Local\\Temp\\ipykernel_17668\\2858738623.py:299: FutureWarning: `torch.cuda.amp.GradScaler(args...)` is deprecated. Please use `torch.amp.GradScaler('cuda', args...)` instead.\n",
      "  scaler = torch.cuda.amp.GradScaler()\n"
     ]
    },
    {
     "name": "stdout",
     "output_type": "stream",
     "text": [
      "Using Automatic Mixed Precision (AMP) for training\n",
      "Validating dataset for correct class indices...\n",
      "Dataset validation complete - no invalid class indices found\n"
     ]
    },
    {
     "name": "stderr",
     "output_type": "stream",
     "text": [
      "Epoch 1/50: 100%|██████████| 12604/12604 [01:49<00:00, 115.56it/s, loss=0.338, acc=86.8]\n"
     ]
    },
    {
     "name": "stdout",
     "output_type": "stream",
     "text": [
      "Epoch 1/50 - Train Loss: 0.3382, Train Acc: 86.81%, Val Loss: 0.1343, Val Acc: 85.00%\n",
      "Model saved with validation loss: 0.1343\n"
     ]
    },
    {
     "name": "stderr",
     "output_type": "stream",
     "text": [
      "Epoch 2/50: 100%|██████████| 12604/12604 [02:11<00:00, 95.50it/s, loss=0.16, acc=90.9]  \n"
     ]
    },
    {
     "name": "stdout",
     "output_type": "stream",
     "text": [
      "Epoch 2/50 - Train Loss: 0.1599, Train Acc: 90.93%, Val Loss: 0.1036, Val Acc: 91.59%\n",
      "Model saved with validation loss: 0.1036\n"
     ]
    },
    {
     "name": "stderr",
     "output_type": "stream",
     "text": [
      "Epoch 3/50: 100%|██████████| 12604/12604 [01:58<00:00, 106.23it/s, loss=0.135, acc=91.9]\n"
     ]
    },
    {
     "name": "stdout",
     "output_type": "stream",
     "text": [
      "Epoch 3/50 - Train Loss: 0.1355, Train Acc: 91.86%, Val Loss: 0.0860, Val Acc: 92.46%\n",
      "Model saved with validation loss: 0.0860\n"
     ]
    },
    {
     "name": "stderr",
     "output_type": "stream",
     "text": [
      "Epoch 4/50: 100%|██████████| 12604/12604 [01:46<00:00, 118.27it/s, loss=0.124, acc=92] \n"
     ]
    },
    {
     "name": "stdout",
     "output_type": "stream",
     "text": [
      "Epoch 4/50 - Train Loss: 0.1237, Train Acc: 91.98%, Val Loss: 0.0846, Val Acc: 91.77%\n",
      "Model saved with validation loss: 0.0846\n"
     ]
    },
    {
     "name": "stderr",
     "output_type": "stream",
     "text": [
      "Epoch 5/50: 100%|██████████| 12604/12604 [01:45<00:00, 119.01it/s, loss=0.118, acc=92.2]\n"
     ]
    },
    {
     "name": "stdout",
     "output_type": "stream",
     "text": [
      "Epoch 5/50 - Train Loss: 0.1184, Train Acc: 92.24%, Val Loss: 0.0769, Val Acc: 92.46%\n",
      "Model saved with validation loss: 0.0769\n"
     ]
    },
    {
     "name": "stderr",
     "output_type": "stream",
     "text": [
      "Epoch 6/50: 100%|██████████| 12604/12604 [01:48<00:00, 116.61it/s, loss=0.109, acc=92.4]\n"
     ]
    },
    {
     "name": "stdout",
     "output_type": "stream",
     "text": [
      "Epoch 6/50 - Train Loss: 0.1092, Train Acc: 92.38%, Val Loss: 0.0711, Val Acc: 93.07%\n",
      "Model saved with validation loss: 0.0711\n"
     ]
    },
    {
     "name": "stderr",
     "output_type": "stream",
     "text": [
      "Epoch 7/50: 100%|██████████| 12604/12604 [01:45<00:00, 119.93it/s, loss=0.107, acc=92.5]\n"
     ]
    },
    {
     "name": "stdout",
     "output_type": "stream",
     "text": [
      "Epoch 7/50 - Train Loss: 0.1070, Train Acc: 92.53%, Val Loss: 0.0959, Val Acc: 92.41%\n"
     ]
    },
    {
     "name": "stderr",
     "output_type": "stream",
     "text": [
      "Epoch 8/50: 100%|██████████| 12604/12604 [01:44<00:00, 120.52it/s, loss=0.104, acc=92.5]\n"
     ]
    },
    {
     "name": "stdout",
     "output_type": "stream",
     "text": [
      "Epoch 8/50 - Train Loss: 0.1042, Train Acc: 92.54%, Val Loss: 0.0691, Val Acc: 94.32%\n",
      "Model saved with validation loss: 0.0691\n"
     ]
    },
    {
     "name": "stderr",
     "output_type": "stream",
     "text": [
      "Epoch 9/50: 100%|██████████| 12604/12604 [01:46<00:00, 118.51it/s, loss=0.105, acc=92.7]\n"
     ]
    },
    {
     "name": "stdout",
     "output_type": "stream",
     "text": [
      "Epoch 9/50 - Train Loss: 0.1046, Train Acc: 92.67%, Val Loss: 0.0771, Val Acc: 91.54%\n"
     ]
    },
    {
     "name": "stderr",
     "output_type": "stream",
     "text": [
      "Epoch 10/50: 100%|██████████| 12604/12604 [01:46<00:00, 118.73it/s, loss=0.102, acc=92.9]\n"
     ]
    },
    {
     "name": "stdout",
     "output_type": "stream",
     "text": [
      "Epoch 10/50 - Train Loss: 0.1020, Train Acc: 92.85%, Val Loss: 0.0744, Val Acc: 94.31%\n"
     ]
    },
    {
     "name": "stderr",
     "output_type": "stream",
     "text": [
      "Epoch 11/50: 100%|██████████| 12604/12604 [01:45<00:00, 119.98it/s, loss=0.0962, acc=93.1]\n"
     ]
    },
    {
     "name": "stdout",
     "output_type": "stream",
     "text": [
      "Epoch 11/50 - Train Loss: 0.0962, Train Acc: 93.10%, Val Loss: 0.0702, Val Acc: 93.46%\n"
     ]
    },
    {
     "name": "stderr",
     "output_type": "stream",
     "text": [
      "Epoch 12/50: 100%|██████████| 12604/12604 [01:46<00:00, 118.12it/s, loss=0.0991, acc=93.1]\n"
     ]
    },
    {
     "name": "stdout",
     "output_type": "stream",
     "text": [
      "Epoch 12/50 - Train Loss: 0.0991, Train Acc: 93.15%, Val Loss: 0.0655, Val Acc: 93.85%\n",
      "Model saved with validation loss: 0.0655\n"
     ]
    },
    {
     "name": "stderr",
     "output_type": "stream",
     "text": [
      "Epoch 13/50: 100%|██████████| 12604/12604 [01:46<00:00, 118.44it/s, loss=0.097, acc=93.2] \n"
     ]
    },
    {
     "name": "stdout",
     "output_type": "stream",
     "text": [
      "Epoch 13/50 - Train Loss: 0.0970, Train Acc: 93.21%, Val Loss: 0.0708, Val Acc: 94.13%\n"
     ]
    },
    {
     "name": "stderr",
     "output_type": "stream",
     "text": [
      "Epoch 14/50: 100%|██████████| 12604/12604 [01:46<00:00, 118.90it/s, loss=0.092, acc=93.6] \n"
     ]
    },
    {
     "name": "stdout",
     "output_type": "stream",
     "text": [
      "Epoch 14/50 - Train Loss: 0.0920, Train Acc: 93.59%, Val Loss: 0.0604, Val Acc: 94.70%\n",
      "Model saved with validation loss: 0.0604\n"
     ]
    },
    {
     "name": "stderr",
     "output_type": "stream",
     "text": [
      "Epoch 15/50: 100%|██████████| 12604/12604 [01:47<00:00, 116.95it/s, loss=0.094, acc=93.8] \n"
     ]
    },
    {
     "name": "stdout",
     "output_type": "stream",
     "text": [
      "Epoch 15/50 - Train Loss: 0.0940, Train Acc: 93.77%, Val Loss: 0.0607, Val Acc: 94.40%\n"
     ]
    },
    {
     "name": "stderr",
     "output_type": "stream",
     "text": [
      "Epoch 16/50: 100%|██████████| 12604/12604 [01:45<00:00, 119.56it/s, loss=0.0898, acc=93.7]\n"
     ]
    },
    {
     "name": "stdout",
     "output_type": "stream",
     "text": [
      "Epoch 16/50 - Train Loss: 0.0898, Train Acc: 93.69%, Val Loss: 0.0640, Val Acc: 94.43%\n"
     ]
    },
    {
     "name": "stderr",
     "output_type": "stream",
     "text": [
      "Epoch 17/50: 100%|██████████| 12604/12604 [01:43<00:00, 121.23it/s, loss=0.0958, acc=93.9]\n"
     ]
    },
    {
     "name": "stdout",
     "output_type": "stream",
     "text": [
      "Epoch 17/50 - Train Loss: 0.0958, Train Acc: 93.87%, Val Loss: 0.0612, Val Acc: 94.02%\n"
     ]
    },
    {
     "name": "stderr",
     "output_type": "stream",
     "text": [
      "Epoch 18/50: 100%|██████████| 12604/12604 [01:45<00:00, 119.91it/s, loss=0.0918, acc=94] \n"
     ]
    },
    {
     "name": "stdout",
     "output_type": "stream",
     "text": [
      "Epoch 18/50 - Train Loss: 0.0918, Train Acc: 93.96%, Val Loss: 0.0703, Val Acc: 93.22%\n"
     ]
    },
    {
     "name": "stderr",
     "output_type": "stream",
     "text": [
      "Epoch 19/50: 100%|██████████| 12604/12604 [01:45<00:00, 118.96it/s, loss=0.0779, acc=94.4]\n"
     ]
    },
    {
     "name": "stdout",
     "output_type": "stream",
     "text": [
      "Epoch 19/50 - Train Loss: 0.0779, Train Acc: 94.38%, Val Loss: 0.0565, Val Acc: 95.01%\n",
      "Model saved with validation loss: 0.0565\n"
     ]
    },
    {
     "name": "stderr",
     "output_type": "stream",
     "text": [
      "Epoch 20/50: 100%|██████████| 12604/12604 [01:44<00:00, 120.15it/s, loss=0.0782, acc=94.5]\n"
     ]
    },
    {
     "name": "stdout",
     "output_type": "stream",
     "text": [
      "Epoch 20/50 - Train Loss: 0.0782, Train Acc: 94.53%, Val Loss: 0.0564, Val Acc: 95.44%\n",
      "Model saved with validation loss: 0.0564\n"
     ]
    },
    {
     "name": "stderr",
     "output_type": "stream",
     "text": [
      "Epoch 21/50: 100%|██████████| 12604/12604 [01:44<00:00, 120.97it/s, loss=0.076, acc=94.6] \n"
     ]
    },
    {
     "name": "stdout",
     "output_type": "stream",
     "text": [
      "Epoch 21/50 - Train Loss: 0.0760, Train Acc: 94.61%, Val Loss: 0.0559, Val Acc: 94.96%\n",
      "Model saved with validation loss: 0.0559\n"
     ]
    },
    {
     "name": "stderr",
     "output_type": "stream",
     "text": [
      "Epoch 22/50: 100%|██████████| 12604/12604 [01:45<00:00, 119.74it/s, loss=0.078, acc=94.6] \n"
     ]
    },
    {
     "name": "stdout",
     "output_type": "stream",
     "text": [
      "Epoch 22/50 - Train Loss: 0.0780, Train Acc: 94.63%, Val Loss: 0.0537, Val Acc: 95.27%\n",
      "Model saved with validation loss: 0.0537\n"
     ]
    },
    {
     "name": "stderr",
     "output_type": "stream",
     "text": [
      "Epoch 23/50: 100%|██████████| 12604/12604 [01:44<00:00, 120.82it/s, loss=0.0774, acc=94.7]\n"
     ]
    },
    {
     "name": "stdout",
     "output_type": "stream",
     "text": [
      "Epoch 23/50 - Train Loss: 0.0774, Train Acc: 94.69%, Val Loss: 0.0567, Val Acc: 94.82%\n"
     ]
    },
    {
     "name": "stderr",
     "output_type": "stream",
     "text": [
      "Epoch 24/50: 100%|██████████| 12604/12604 [01:44<00:00, 121.04it/s, loss=0.0774, acc=94.8]\n"
     ]
    },
    {
     "name": "stdout",
     "output_type": "stream",
     "text": [
      "Epoch 24/50 - Train Loss: 0.0774, Train Acc: 94.80%, Val Loss: 0.0767, Val Acc: 95.15%\n"
     ]
    },
    {
     "name": "stderr",
     "output_type": "stream",
     "text": [
      "Epoch 25/50: 100%|██████████| 12604/12604 [01:45<00:00, 119.18it/s, loss=0.0787, acc=94.8]\n"
     ]
    },
    {
     "name": "stdout",
     "output_type": "stream",
     "text": [
      "Epoch 25/50 - Train Loss: 0.0787, Train Acc: 94.80%, Val Loss: 0.0547, Val Acc: 94.67%\n"
     ]
    },
    {
     "name": "stderr",
     "output_type": "stream",
     "text": [
      "Epoch 26/50: 100%|██████████| 12604/12604 [01:43<00:00, 122.15it/s, loss=0.0777, acc=94.8]\n"
     ]
    },
    {
     "name": "stdout",
     "output_type": "stream",
     "text": [
      "Epoch 26/50 - Train Loss: 0.0777, Train Acc: 94.85%, Val Loss: 0.0719, Val Acc: 94.95%\n"
     ]
    },
    {
     "name": "stderr",
     "output_type": "stream",
     "text": [
      "Epoch 27/50: 100%|██████████| 12604/12604 [01:45<00:00, 119.16it/s, loss=0.072, acc=95.1] \n"
     ]
    },
    {
     "name": "stdout",
     "output_type": "stream",
     "text": [
      "Epoch 27/50 - Train Loss: 0.0720, Train Acc: 95.14%, Val Loss: 0.0528, Val Acc: 95.20%\n",
      "Model saved with validation loss: 0.0528\n"
     ]
    },
    {
     "name": "stderr",
     "output_type": "stream",
     "text": [
      "Epoch 28/50: 100%|██████████| 12604/12604 [01:45<00:00, 118.97it/s, loss=0.0701, acc=95.3]\n"
     ]
    },
    {
     "name": "stdout",
     "output_type": "stream",
     "text": [
      "Epoch 28/50 - Train Loss: 0.0701, Train Acc: 95.26%, Val Loss: 0.0523, Val Acc: 95.00%\n",
      "Model saved with validation loss: 0.0523\n"
     ]
    },
    {
     "name": "stderr",
     "output_type": "stream",
     "text": [
      "Epoch 29/50: 100%|██████████| 12604/12604 [01:43<00:00, 122.06it/s, loss=0.0718, acc=95.2]\n"
     ]
    },
    {
     "name": "stdout",
     "output_type": "stream",
     "text": [
      "Epoch 29/50 - Train Loss: 0.0718, Train Acc: 95.22%, Val Loss: 0.0510, Val Acc: 95.35%\n",
      "Model saved with validation loss: 0.0510\n"
     ]
    },
    {
     "name": "stderr",
     "output_type": "stream",
     "text": [
      "Epoch 30/50: 100%|██████████| 12604/12604 [01:45<00:00, 119.81it/s, loss=0.0709, acc=95.2]\n"
     ]
    },
    {
     "name": "stdout",
     "output_type": "stream",
     "text": [
      "Epoch 30/50 - Train Loss: 0.0709, Train Acc: 95.23%, Val Loss: 0.0536, Val Acc: 95.06%\n"
     ]
    },
    {
     "name": "stderr",
     "output_type": "stream",
     "text": [
      "Epoch 31/50: 100%|██████████| 12604/12604 [01:46<00:00, 118.40it/s, loss=0.0691, acc=95.2]\n"
     ]
    },
    {
     "name": "stdout",
     "output_type": "stream",
     "text": [
      "Epoch 31/50 - Train Loss: 0.0691, Train Acc: 95.20%, Val Loss: 0.0524, Val Acc: 95.18%\n"
     ]
    },
    {
     "name": "stderr",
     "output_type": "stream",
     "text": [
      "Epoch 32/50: 100%|██████████| 12604/12604 [01:44<00:00, 121.07it/s, loss=0.0688, acc=95.3]\n"
     ]
    },
    {
     "name": "stdout",
     "output_type": "stream",
     "text": [
      "Epoch 32/50 - Train Loss: 0.0688, Train Acc: 95.32%, Val Loss: 0.0551, Val Acc: 95.06%\n"
     ]
    },
    {
     "name": "stderr",
     "output_type": "stream",
     "text": [
      "Epoch 33/50: 100%|██████████| 12604/12604 [01:44<00:00, 120.96it/s, loss=0.0717, acc=95.2]\n"
     ]
    },
    {
     "name": "stdout",
     "output_type": "stream",
     "text": [
      "Epoch 33/50 - Train Loss: 0.0717, Train Acc: 95.21%, Val Loss: 0.0528, Val Acc: 95.42%\n"
     ]
    },
    {
     "name": "stderr",
     "output_type": "stream",
     "text": [
      "Epoch 34/50: 100%|██████████| 12604/12604 [01:46<00:00, 118.43it/s, loss=0.068, acc=95.4] \n"
     ]
    },
    {
     "name": "stdout",
     "output_type": "stream",
     "text": [
      "Epoch 34/50 - Train Loss: 0.0680, Train Acc: 95.44%, Val Loss: 0.0499, Val Acc: 95.51%\n",
      "Model saved with validation loss: 0.0499\n"
     ]
    },
    {
     "name": "stderr",
     "output_type": "stream",
     "text": [
      "Epoch 35/50: 100%|██████████| 12604/12604 [01:44<00:00, 120.30it/s, loss=0.0646, acc=95.5]\n"
     ]
    },
    {
     "name": "stdout",
     "output_type": "stream",
     "text": [
      "Epoch 35/50 - Train Loss: 0.0646, Train Acc: 95.48%, Val Loss: 0.0757, Val Acc: 94.30%\n"
     ]
    },
    {
     "name": "stderr",
     "output_type": "stream",
     "text": [
      "Epoch 36/50: 100%|██████████| 12604/12604 [01:43<00:00, 121.55it/s, loss=0.0654, acc=95.4]\n"
     ]
    },
    {
     "name": "stdout",
     "output_type": "stream",
     "text": [
      "Epoch 36/50 - Train Loss: 0.0654, Train Acc: 95.43%, Val Loss: 0.0525, Val Acc: 95.66%\n"
     ]
    },
    {
     "name": "stderr",
     "output_type": "stream",
     "text": [
      "Epoch 37/50: 100%|██████████| 12604/12604 [01:45<00:00, 118.99it/s, loss=0.0656, acc=95.5]\n"
     ]
    },
    {
     "name": "stdout",
     "output_type": "stream",
     "text": [
      "Epoch 37/50 - Train Loss: 0.0656, Train Acc: 95.54%, Val Loss: 0.0494, Val Acc: 95.49%\n",
      "Model saved with validation loss: 0.0494\n"
     ]
    },
    {
     "name": "stderr",
     "output_type": "stream",
     "text": [
      "Epoch 38/50: 100%|██████████| 12604/12604 [01:48<00:00, 115.74it/s, loss=0.0668, acc=95.6]\n"
     ]
    },
    {
     "name": "stdout",
     "output_type": "stream",
     "text": [
      "Epoch 38/50 - Train Loss: 0.0668, Train Acc: 95.55%, Val Loss: 0.0678, Val Acc: 95.35%\n"
     ]
    },
    {
     "name": "stderr",
     "output_type": "stream",
     "text": [
      "Epoch 39/50: 100%|██████████| 12604/12604 [02:04<00:00, 100.96it/s, loss=0.0671, acc=95.6]\n"
     ]
    },
    {
     "name": "stdout",
     "output_type": "stream",
     "text": [
      "Epoch 39/50 - Train Loss: 0.0671, Train Acc: 95.58%, Val Loss: 0.0493, Val Acc: 95.68%\n",
      "Model saved with validation loss: 0.0493\n"
     ]
    },
    {
     "name": "stderr",
     "output_type": "stream",
     "text": [
      "Epoch 40/50: 100%|██████████| 12604/12604 [02:06<00:00, 99.86it/s, loss=0.0675, acc=95.6] \n"
     ]
    },
    {
     "name": "stdout",
     "output_type": "stream",
     "text": [
      "Epoch 40/50 - Train Loss: 0.0675, Train Acc: 95.61%, Val Loss: 0.0489, Val Acc: 95.38%\n",
      "Model saved with validation loss: 0.0489\n"
     ]
    },
    {
     "name": "stderr",
     "output_type": "stream",
     "text": [
      "Epoch 41/50: 100%|██████████| 12604/12604 [02:08<00:00, 98.39it/s, loss=0.0664, acc=95.6] \n"
     ]
    },
    {
     "name": "stdout",
     "output_type": "stream",
     "text": [
      "Epoch 41/50 - Train Loss: 0.0664, Train Acc: 95.64%, Val Loss: 0.0492, Val Acc: 95.37%\n"
     ]
    },
    {
     "name": "stderr",
     "output_type": "stream",
     "text": [
      "Epoch 42/50: 100%|██████████| 12604/12604 [02:09<00:00, 97.48it/s, loss=0.0664, acc=95.6] \n"
     ]
    },
    {
     "name": "stdout",
     "output_type": "stream",
     "text": [
      "Epoch 42/50 - Train Loss: 0.0664, Train Acc: 95.59%, Val Loss: 0.0482, Val Acc: 95.73%\n",
      "Model saved with validation loss: 0.0482\n"
     ]
    },
    {
     "name": "stderr",
     "output_type": "stream",
     "text": [
      "Epoch 43/50: 100%|██████████| 12604/12604 [02:00<00:00, 104.56it/s, loss=0.0634, acc=95.6]\n"
     ]
    },
    {
     "name": "stdout",
     "output_type": "stream",
     "text": [
      "Epoch 43/50 - Train Loss: 0.0634, Train Acc: 95.65%, Val Loss: 0.0495, Val Acc: 95.85%\n"
     ]
    },
    {
     "name": "stderr",
     "output_type": "stream",
     "text": [
      "Epoch 44/50: 100%|██████████| 12604/12604 [01:44<00:00, 120.66it/s, loss=0.066, acc=95.6] \n"
     ]
    },
    {
     "name": "stdout",
     "output_type": "stream",
     "text": [
      "Epoch 44/50 - Train Loss: 0.0660, Train Acc: 95.65%, Val Loss: 0.0509, Val Acc: 95.88%\n"
     ]
    },
    {
     "name": "stderr",
     "output_type": "stream",
     "text": [
      "Epoch 45/50: 100%|██████████| 12604/12604 [01:45<00:00, 119.39it/s, loss=0.0655, acc=95.7]\n"
     ]
    },
    {
     "name": "stdout",
     "output_type": "stream",
     "text": [
      "Epoch 45/50 - Train Loss: 0.0655, Train Acc: 95.69%, Val Loss: 0.0505, Val Acc: 95.87%\n"
     ]
    },
    {
     "name": "stderr",
     "output_type": "stream",
     "text": [
      "Epoch 46/50: 100%|██████████| 12604/12604 [01:45<00:00, 119.16it/s, loss=0.0626, acc=95.7]\n"
     ]
    },
    {
     "name": "stdout",
     "output_type": "stream",
     "text": [
      "Epoch 46/50 - Train Loss: 0.0626, Train Acc: 95.68%, Val Loss: 0.0486, Val Acc: 95.84%\n"
     ]
    },
    {
     "name": "stderr",
     "output_type": "stream",
     "text": [
      "Epoch 47/50: 100%|██████████| 12604/12604 [01:44<00:00, 121.05it/s, loss=0.0644, acc=95.7]\n"
     ]
    },
    {
     "name": "stdout",
     "output_type": "stream",
     "text": [
      "Epoch 47/50 - Train Loss: 0.0644, Train Acc: 95.74%, Val Loss: 0.0476, Val Acc: 96.06%\n",
      "Model saved with validation loss: 0.0476\n"
     ]
    },
    {
     "name": "stderr",
     "output_type": "stream",
     "text": [
      "Epoch 48/50: 100%|██████████| 12604/12604 [01:45<00:00, 118.92it/s, loss=0.0627, acc=95.8]\n"
     ]
    },
    {
     "name": "stdout",
     "output_type": "stream",
     "text": [
      "Epoch 48/50 - Train Loss: 0.0627, Train Acc: 95.76%, Val Loss: 0.0490, Val Acc: 95.65%\n"
     ]
    },
    {
     "name": "stderr",
     "output_type": "stream",
     "text": [
      "Epoch 49/50: 100%|██████████| 12604/12604 [01:46<00:00, 117.95it/s, loss=0.0618, acc=95.8]\n"
     ]
    },
    {
     "name": "stdout",
     "output_type": "stream",
     "text": [
      "Epoch 49/50 - Train Loss: 0.0618, Train Acc: 95.79%, Val Loss: 0.0481, Val Acc: 95.61%\n"
     ]
    },
    {
     "name": "stderr",
     "output_type": "stream",
     "text": [
      "Epoch 50/50: 100%|██████████| 12604/12604 [01:43<00:00, 121.70it/s, loss=0.0623, acc=95.8]\n"
     ]
    },
    {
     "name": "stdout",
     "output_type": "stream",
     "text": [
      "Epoch 50/50 - Train Loss: 0.0623, Train Acc: 95.82%, Val Loss: 0.0471, Val Acc: 95.92%\n",
      "Model saved with validation loss: 0.0471\n"
     ]
    },
    {
     "name": "stderr",
     "output_type": "stream",
     "text": [
      "C:\\Users\\Soham\\AppData\\Local\\Temp\\ipykernel_17668\\2858738623.py:494: FutureWarning: You are using `torch.load` with `weights_only=False` (the current default value), which uses the default pickle module implicitly. It is possible to construct malicious pickle data which will execute arbitrary code during unpickling (See https://github.com/pytorch/pytorch/blob/main/SECURITY.md#untrusted-models for more details). In a future release, the default value for `weights_only` will be flipped to `True`. This limits the functions that could be executed during unpickling. Arbitrary objects will no longer be allowed to be loaded via this mode unless they are explicitly allowlisted by the user via `torch.serialization.add_safe_globals`. We recommend you start setting `weights_only=True` for any use case where you don't have full control of the loaded file. Please open an issue on GitHub for any issues related to this experimental feature.\n",
      "  model.load_state_dict(torch.load('best_model.pth'))\n",
      "2025-03-10 03:01:54 - INFO - Model saved successfully to 'ids_model.pth'\n",
      "2025-03-10 03:01:54 - INFO - \n",
      "Total execution time: 6054.46 seconds\n"
     ]
    },
    {
     "name": "stdout",
     "output_type": "stream",
     "text": [
      "\n",
      "Test Loss: 0.0483, Test Accuracy: 95.96%\n",
      "\n",
      "=== Training Complete ===\n"
     ]
    }
   ],
   "source": [
    "def main():\n",
    "    \"\"\"Main function to run the IDS pipeline.\"\"\"\n",
    "    # Configuration\n",
    "    config = {\n",
    "        'data_path': 'cicids2017_cleaned.csv',\n",
    "        'label_column': 'Attack Type',\n",
    "        'test_size': 0.2,\n",
    "        'val_size': 0.2,  # Validation set size (from training data)\n",
    "        'random_state': 42,\n",
    "        'timesteps': 10,\n",
    "        'epochs': 50,\n",
    "        'batch_size': 128,\n",
    "        'learning_rate': 0.001,\n",
    "        'patience': 5,\n",
    "        'num_workers': 8, # Number of workers for data loading\n",
    "        'mixed_precision': True,  # Use mixed precision training\n",
    "        'pin_memory': True,  # Pin memory for faster GPU transfer\n",
    "    }\n",
    "    \n",
    "    try:\n",
    "        print(\"\\n=== Starting Intrusion Detection System Training ===\")\n",
    "        start_time = time.time()\n",
    "        \n",
    "        # Initialize IDS\n",
    "        ids = IntrusionDetectionSystem(config)\n",
    "        \n",
    "        # Load and preprocess data\n",
    "        df = ids.load_data(config['data_path'])\n",
    "        X, y = ids.preprocess_data(df)\n",
    "        \n",
    "        # Handle class imbalance\n",
    "        print(\"\\nChecking class distribution...\")\n",
    "        unique_labels, counts = np.unique(y, return_counts=True)\n",
    "        imbalanced = max(counts) / min(counts) > 10  # Check if imbalance ratio > 10\n",
    "\n",
    "        if imbalanced:\n",
    "            print(\"Detected significant class imbalance. Applying SMOTE...\")\n",
    "            X_balanced, y_balanced = ids.handle_class_imbalance(X, y)\n",
    "        else:\n",
    "            print(\"Class distribution is acceptable. Proceeding without balancing.\")\n",
    "            X_balanced, y_balanced = X, y\n",
    "        \n",
    "        # Split data into train and test sets\n",
    "        print(\"\\nSplitting data into training and test sets...\")\n",
    "        X_train_full, X_test, y_train_full, y_test = train_test_split(\n",
    "            X_balanced, y_balanced,\n",
    "            test_size=config['test_size'],\n",
    "            random_state=config['random_state'],\n",
    "            stratify=y_balanced  # Ensure balanced split\n",
    "        )\n",
    "        \n",
    "        # Further split train data into train and validation sets\n",
    "        X_train, X_val, y_train, y_val = train_test_split(\n",
    "            X_train_full, y_train_full,\n",
    "            test_size=config['val_size'],\n",
    "            random_state=config['random_state'],\n",
    "            stratify=y_train_full\n",
    "        )\n",
    "        # Convert features to float32\n",
    "        X_train = X_train.astype(np.float32)\n",
    "        X_val = X_val.astype(np.float32)\n",
    "        X_test = X_test.astype(np.float32)\n",
    "\n",
    "        # Convert targets to int64\n",
    "        y_train = y_train.astype(np.int64)\n",
    "        y_val = y_val.astype(np.int64)\n",
    "        y_test = y_test.astype(np.int64)\n",
    "        \n",
    "        logger.info(f\"Training set size: {len(X_train):,} samples\")\n",
    "        logger.info(f\"Validation set size: {len(X_val):,} samples\")\n",
    "        logger.info(f\"Test set size: {len(X_test):,} samples\")\n",
    "        \n",
    "        # Reshape data for both branches\n",
    "        X_train_cnn, X_train_lstm = ids.reshape_data(X_train)\n",
    "        X_val_cnn, X_val_lstm = ids.reshape_data(X_val)\n",
    "        X_test_cnn, X_test_lstm = ids.reshape_data(X_test)\n",
    "        print(\"X_train_lstm shape:\", X_train_lstm.shape)\n",
    "        print(\"lstm_input_shape:\", X_train_lstm.shape[1:])\n",
    "        # Create dataloaders\n",
    "        train_loader, val_loader, test_loader = ids.create_dataloaders(\n",
    "            X_train_cnn, X_train_lstm, y_train,\n",
    "            X_val_cnn, X_val_lstm, y_val,\n",
    "            X_test_cnn, X_test_lstm, y_test\n",
    "        )\n",
    "        \n",
    "        # Train and evaluate model\n",
    "        model, history = ids.train_and_evaluate(\n",
    "            train_loader, \n",
    "            val_loader, \n",
    "            test_loader,\n",
    "            cnn_input_shape=X_train_cnn.shape[1:],\n",
    "            lstm_input_shape=X_train_lstm.shape[1:],\n",
    "            num_classes= len(np.unique(y))\n",
    "        )\n",
    "        \n",
    "        # Save model\n",
    "        ids.save_model(model, path='ids_model.pth')\n",
    "        \n",
    "        total_duration = time.time() - start_time\n",
    "        logger.info(f\"\\nTotal execution time: {total_duration:.2f} seconds\")\n",
    "        print(\"\\n=== Training Complete ===\")\n",
    "        \n",
    "    except Exception as e:\n",
    "        logger.error(f\"Error in main function: {str(e)}\")\n",
    "        raise\n",
    "\n",
    "if __name__ == \"__main__\":\n",
    "    main()\n"
   ]
  },
  {
   "cell_type": "code",
   "execution_count": 18,
   "metadata": {},
   "outputs": [
    {
     "name": "stdout",
     "output_type": "stream",
     "text": [
      "Training history plot saved to 'training_history.png'\n"
     ]
    },
    {
     "data": {
      "image/png": "[encoded data removed]",
      "text/plain": [
       "<Figure size 1200x1000 with 2 Axes>"
      ]
     },
     "metadata": {},
     "output_type": "display_data"
    },
    {
     "name": "stdout",
     "output_type": "stream",
     "text": [
      "Final training accuracy: 95.82%\n",
      "Final validation accuracy: 95.92%\n",
      "Test accuracy: 95.96%\n"
     ]
    }
   ],
   "source": [
    "import matplotlib.pyplot as plt\n",
    "import re\n",
    "import numpy as np\n",
    "\n",
    "# Extract metrics from log content\n",
    "def extract_metrics_from_logs(log_content):\n",
    "    # Regular expression to extract metrics for each epoch\n",
    "    pattern = r\"Epoch (\\d+)/\\d+ - Train Loss: ([\\d\\.]+), Train Acc: ([\\d\\.]+)%, Val Loss: ([\\d\\.]+), Val Acc: ([\\d\\.]+)%\"\n",
    "    matches = re.findall(pattern, log_content)\n",
    "    \n",
    "    # Create history dictionary\n",
    "    history = {\n",
    "        'train_loss': [],\n",
    "        'train_acc': [],\n",
    "        'val_loss': [],\n",
    "        'val_acc': []\n",
    "    }\n",
    "    \n",
    "    for match in matches:\n",
    "        epoch, train_loss, train_acc, val_loss, val_acc = match\n",
    "        history['train_loss'].append(float(train_loss))\n",
    "        history['train_acc'].append(float(train_acc))\n",
    "        history['val_loss'].append(float(val_loss))\n",
    "        history['val_acc'].append(float(val_acc))\n",
    "    \n",
    "    return history\n",
    "\n",
    "# Your log content as a string\n",
    "log_content = \"\"\"\n",
    "Epoch 1/50: 100%|██████████| 12604/12604 [01:49<00:00, 115.56it/s, loss=0.338, acc=86.8]\n",
    "Epoch 1/50 - Train Loss: 0.3382, Train Acc: 86.81%, Val Loss: 0.1343, Val Acc: 85.00%\n",
    "Model saved with validation loss: 0.1343\n",
    "Epoch 2/50: 100%|██████████| 12604/12604 [02:11<00:00, 95.50it/s, loss=0.16, acc=90.9]  \n",
    "Epoch 2/50 - Train Loss: 0.1599, Train Acc: 90.93%, Val Loss: 0.1036, Val Acc: 91.59%\n",
    "Model saved with validation loss: 0.1036\n",
    "Epoch 3/50: 100%|██████████| 12604/12604 [01:58<00:00, 106.23it/s, loss=0.135, acc=91.9]\n",
    "Epoch 3/50 - Train Loss: 0.1355, Train Acc: 91.86%, Val Loss: 0.0860, Val Acc: 92.46%\n",
    "Model saved with validation loss: 0.0860\n",
    "Epoch 4/50: 100%|██████████| 12604/12604 [01:46<00:00, 118.27it/s, loss=0.124, acc=92] \n",
    "Epoch 4/50 - Train Loss: 0.1237, Train Acc: 91.98%, Val Loss: 0.0846, Val Acc: 91.77%\n",
    "Model saved with validation loss: 0.0846\n",
    "Epoch 5/50: 100%|██████████| 12604/12604 [01:45<00:00, 119.01it/s, loss=0.118, acc=92.2]\n",
    "Epoch 5/50 - Train Loss: 0.1184, Train Acc: 92.24%, Val Loss: 0.0769, Val Acc: 92.46%\n",
    "Model saved with validation loss: 0.0769\n",
    "Epoch 6/50: 100%|██████████| 12604/12604 [01:48<00:00, 116.61it/s, loss=0.109, acc=92.4]\n",
    "Epoch 6/50 - Train Loss: 0.1092, Train Acc: 92.38%, Val Loss: 0.0711, Val Acc: 93.07%\n",
    "Model saved with validation loss: 0.0711\n",
    "Epoch 7/50: 100%|██████████| 12604/12604 [01:45<00:00, 119.93it/s, loss=0.107, acc=92.5]\n",
    "Epoch 7/50 - Train Loss: 0.1070, Train Acc: 92.53%, Val Loss: 0.0959, Val Acc: 92.41%\n",
    "Epoch 8/50: 100%|██████████| 12604/12604 [01:44<00:00, 120.52it/s, loss=0.104, acc=92.5]\n",
    "Epoch 8/50 - Train Loss: 0.1042, Train Acc: 92.54%, Val Loss: 0.0691, Val Acc: 94.32%\n",
    "Model saved with validation loss: 0.0691\n",
    "Epoch 9/50: 100%|██████████| 12604/12604 [01:46<00:00, 118.51it/s, loss=0.105, acc=92.7]\n",
    "Epoch 9/50 - Train Loss: 0.1046, Train Acc: 92.67%, Val Loss: 0.0771, Val Acc: 91.54%\n",
    "Epoch 10/50: 100%|██████████| 12604/12604 [01:46<00:00, 118.73it/s, loss=0.102, acc=92.9]\n",
    "Epoch 10/50 - Train Loss: 0.1020, Train Acc: 92.85%, Val Loss: 0.0744, Val Acc: 94.31%\n",
    "Epoch 11/50: 100%|██████████| 12604/12604 [01:45<00:00, 119.98it/s, loss=0.0962, acc=93.1]\n",
    "Epoch 11/50 - Train Loss: 0.0962, Train Acc: 93.10%, Val Loss: 0.0702, Val Acc: 93.46%\n",
    "Epoch 12/50: 100%|██████████| 12604/12604 [01:46<00:00, 118.12it/s, loss=0.0991, acc=93.1]\n",
    "Epoch 12/50 - Train Loss: 0.0991, Train Acc: 93.15%, Val Loss: 0.0655, Val Acc: 93.85%\n",
    "Model saved with validation loss: 0.0655\n",
    "Epoch 13/50: 100%|██████████| 12604/12604 [01:46<00:00, 118.44it/s, loss=0.097, acc=93.2] \n",
    "Epoch 13/50 - Train Loss: 0.0970, Train Acc: 93.21%, Val Loss: 0.0708, Val Acc: 94.13%\n",
    "Epoch 14/50: 100%|██████████| 12604/12604 [01:46<00:00, 118.90it/s, loss=0.092, acc=93.6] \n",
    "Epoch 14/50 - Train Loss: 0.0920, Train Acc: 93.59%, Val Loss: 0.0604, Val Acc: 94.70%\n",
    "Model saved with validation loss: 0.0604\n",
    "Epoch 15/50: 100%|██████████| 12604/12604 [01:47<00:00, 116.95it/s, loss=0.094, acc=93.8] \n",
    "Epoch 15/50 - Train Loss: 0.0940, Train Acc: 93.77%, Val Loss: 0.0607, Val Acc: 94.40%\n",
    "Epoch 16/50: 100%|██████████| 12604/12604 [01:45<00:00, 119.56it/s, loss=0.0898, acc=93.7]\n",
    "Epoch 16/50 - Train Loss: 0.0898, Train Acc: 93.69%, Val Loss: 0.0640, Val Acc: 94.43%\n",
    "Epoch 17/50: 100%|██████████| 12604/12604 [01:43<00:00, 121.23it/s, loss=0.0958, acc=93.9]\n",
    "Epoch 17/50 - Train Loss: 0.0958, Train Acc: 93.87%, Val Loss: 0.0612, Val Acc: 94.02%\n",
    "Epoch 18/50: 100%|██████████| 12604/12604 [01:45<00:00, 119.91it/s, loss=0.0918, acc=94] \n",
    "Epoch 18/50 - Train Loss: 0.0918, Train Acc: 93.96%, Val Loss: 0.0703, Val Acc: 93.22%\n",
    "Epoch 19/50: 100%|██████████| 12604/12604 [01:45<00:00, 118.96it/s, loss=0.0779, acc=94.4]\n",
    "Epoch 19/50 - Train Loss: 0.0779, Train Acc: 94.38%, Val Loss: 0.0565, Val Acc: 95.01%\n",
    "Model saved with validation loss: 0.0565\n",
    "Epoch 20/50: 100%|██████████| 12604/12604 [01:44<00:00, 120.15it/s, loss=0.0782, acc=94.5]\n",
    "Epoch 20/50 - Train Loss: 0.0782, Train Acc: 94.53%, Val Loss: 0.0564, Val Acc: 95.44%\n",
    "Model saved with validation loss: 0.0564\n",
    "Epoch 21/50: 100%|██████████| 12604/12604 [01:44<00:00, 120.97it/s, loss=0.076, acc=94.6] \n",
    "Epoch 21/50 - Train Loss: 0.0760, Train Acc: 94.61%, Val Loss: 0.0559, Val Acc: 94.96%\n",
    "Model saved with validation loss: 0.0559\n",
    "Epoch 22/50: 100%|██████████| 12604/12604 [01:45<00:00, 119.74it/s, loss=0.078, acc=94.6] \n",
    "Epoch 22/50 - Train Loss: 0.0780, Train Acc: 94.63%, Val Loss: 0.0537, Val Acc: 95.27%\n",
    "Model saved with validation loss: 0.0537\n",
    "Epoch 23/50: 100%|██████████| 12604/12604 [01:44<00:00, 120.82it/s, loss=0.0774, acc=94.7]\n",
    "Epoch 23/50 - Train Loss: 0.0774, Train Acc: 94.69%, Val Loss: 0.0567, Val Acc: 94.82%\n",
    "Epoch 24/50: 100%|██████████| 12604/12604 [01:44<00:00, 121.04it/s, loss=0.0774, acc=94.8]\n",
    "Epoch 24/50 - Train Loss: 0.0774, Train Acc: 94.80%, Val Loss: 0.0767, Val Acc: 95.15%\n",
    "Epoch 25/50: 100%|██████████| 12604/12604 [01:45<00:00, 119.18it/s, loss=0.0787, acc=94.8]\n",
    "Epoch 25/50 - Train Loss: 0.0787, Train Acc: 94.80%, Val Loss: 0.0547, Val Acc: 94.67%\n",
    "Epoch 26/50: 100%|██████████| 12604/12604 [01:43<00:00, 122.15it/s, loss=0.0777, acc=94.8]\n",
    "Epoch 26/50 - Train Loss: 0.0777, Train Acc: 94.85%, Val Loss: 0.0719, Val Acc: 94.95%\n",
    "Epoch 27/50: 100%|██████████| 12604/12604 [01:45<00:00, 119.16it/s, loss=0.072, acc=95.1] \n",
    "Epoch 27/50 - Train Loss: 0.0720, Train Acc: 95.14%, Val Loss: 0.0528, Val Acc: 95.20%\n",
    "Model saved with validation loss: 0.0528\n",
    "Epoch 28/50: 100%|██████████| 12604/12604 [01:45<00:00, 118.97it/s, loss=0.0701, acc=95.3]\n",
    "Epoch 28/50 - Train Loss: 0.0701, Train Acc: 95.26%, Val Loss: 0.0523, Val Acc: 95.00%\n",
    "Model saved with validation loss: 0.0523\n",
    "Epoch 29/50: 100%|██████████| 12604/12604 [01:43<00:00, 122.06it/s, loss=0.0718, acc=95.2]\n",
    "Epoch 29/50 - Train Loss: 0.0718, Train Acc: 95.22%, Val Loss: 0.0510, Val Acc: 95.35%\n",
    "Model saved with validation loss: 0.0510\n",
    "Epoch 30/50: 100%|██████████| 12604/12604 [01:45<00:00, 119.81it/s, loss=0.0709, acc=95.2]\n",
    "Epoch 30/50 - Train Loss: 0.0709, Train Acc: 95.23%, Val Loss: 0.0536, Val Acc: 95.06%\n",
    "Epoch 31/50: 100%|██████████| 12604/12604 [01:46<00:00, 118.40it/s, loss=0.0691, acc=95.2]\n",
    "Epoch 31/50 - Train Loss: 0.0691, Train Acc: 95.20%, Val Loss: 0.0524, Val Acc: 95.18%\n",
    "Epoch 32/50: 100%|██████████| 12604/12604 [01:44<00:00, 121.07it/s, loss=0.0688, acc=95.3]\n",
    "Epoch 32/50 - Train Loss: 0.0688, Train Acc: 95.32%, Val Loss: 0.0551, Val Acc: 95.06%\n",
    "Epoch 33/50: 100%|██████████| 12604/12604 [01:44<00:00, 120.96it/s, loss=0.0717, acc=95.2]\n",
    "Epoch 33/50 - Train Loss: 0.0717, Train Acc: 95.21%, Val Loss: 0.0528, Val Acc: 95.42%\n",
    "Epoch 34/50: 100%|██████████| 12604/12604 [01:46<00:00, 118.43it/s, loss=0.068, acc=95.4] \n",
    "Epoch 34/50 - Train Loss: 0.0680, Train Acc: 95.44%, Val Loss: 0.0499, Val Acc: 95.51%\n",
    "Model saved with validation loss: 0.0499\n",
    "Epoch 35/50: 100%|██████████| 12604/12604 [01:44<00:00, 120.30it/s, loss=0.0646, acc=95.5]\n",
    "Epoch 35/50 - Train Loss: 0.0646, Train Acc: 95.48%, Val Loss: 0.0757, Val Acc: 94.30%\n",
    "Epoch 36/50: 100%|██████████| 12604/12604 [01:43<00:00, 121.55it/s, loss=0.0654, acc=95.4]\n",
    "Epoch 36/50 - Train Loss: 0.0654, Train Acc: 95.43%, Val Loss: 0.0525, Val Acc: 95.66%\n",
    "Epoch 37/50: 100%|██████████| 12604/12604 [01:45<00:00, 118.99it/s, loss=0.0656, acc=95.5]\n",
    "Epoch 37/50 - Train Loss: 0.0656, Train Acc: 95.54%, Val Loss: 0.0494, Val Acc: 95.49%\n",
    "Model saved with validation loss: 0.0494\n",
    "Epoch 38/50: 100%|██████████| 12604/12604 [01:48<00:00, 115.74it/s, loss=0.0668, acc=95.6]\n",
    "Epoch 38/50 - Train Loss: 0.0668, Train Acc: 95.55%, Val Loss: 0.0678, Val Acc: 95.35%\n",
    "Epoch 39/50: 100%|██████████| 12604/12604 [02:04<00:00, 100.96it/s, loss=0.0671, acc=95.6]\n",
    "Epoch 39/50 - Train Loss: 0.0671, Train Acc: 95.58%, Val Loss: 0.0493, Val Acc: 95.68%\n",
    "Model saved with validation loss: 0.0493\n",
    "Epoch 40/50: 100%|██████████| 12604/12604 [02:06<00:00, 99.86it/s, loss=0.0675, acc=95.6] \n",
    "Epoch 40/50 - Train Loss: 0.0675, Train Acc: 95.61%, Val Loss: 0.0489, Val Acc: 95.38%\n",
    "Model saved with validation loss: 0.0489\n",
    "Epoch 41/50: 100%|██████████| 12604/12604 [02:08<00:00, 98.39it/s, loss=0.0664, acc=95.6] \n",
    "Epoch 41/50 - Train Loss: 0.0664, Train Acc: 95.64%, Val Loss: 0.0492, Val Acc: 95.37%\n",
    "Epoch 42/50: 100%|██████████| 12604/12604 [02:09<00:00, 97.48it/s, loss=0.0664, acc=95.6] \n",
    "Epoch 42/50 - Train Loss: 0.0664, Train Acc: 95.59%, Val Loss: 0.0482, Val Acc: 95.73%\n",
    "Model saved with validation loss: 0.0482\n",
    "Epoch 43/50: 100%|██████████| 12604/12604 [02:00<00:00, 104.56it/s, loss=0.0634, acc=95.6]\n",
    "Epoch 43/50 - Train Loss: 0.0634, Train Acc: 95.65%, Val Loss: 0.0495, Val Acc: 95.85%\n",
    "Epoch 44/50: 100%|██████████| 12604/12604 [01:44<00:00, 120.66it/s, loss=0.066, acc=95.6] \n",
    "Epoch 44/50 - Train Loss: 0.0660, Train Acc: 95.65%, Val Loss: 0.0509, Val Acc: 95.88%\n",
    "Epoch 45/50: 100%|██████████| 12604/12604 [01:45<00:00, 119.39it/s, loss=0.0655, acc=95.7]\n",
    "Epoch 45/50 - Train Loss: 0.0655, Train Acc: 95.69%, Val Loss: 0.0505, Val Acc: 95.87%\n",
    "Epoch 46/50: 100%|██████████| 12604/12604 [01:45<00:00, 119.16it/s, loss=0.0626, acc=95.7]\n",
    "Epoch 46/50 - Train Loss: 0.0626, Train Acc: 95.68%, Val Loss: 0.0486, Val Acc: 95.84%\n",
    "Epoch 47/50: 100%|██████████| 12604/12604 [01:44<00:00, 121.05it/s, loss=0.0644, acc=95.7]\n",
    "Epoch 47/50 - Train Loss: 0.0644, Train Acc: 95.74%, Val Loss: 0.0476, Val Acc: 96.06%\n",
    "Model saved with validation loss: 0.0476\n",
    "Epoch 48/50: 100%|██████████| 12604/12604 [01:45<00:00, 118.92it/s, loss=0.0627, acc=95.8]\n",
    "Epoch 48/50 - Train Loss: 0.0627, Train Acc: 95.76%, Val Loss: 0.0490, Val Acc: 95.65%\n",
    "Epoch 49/50: 100%|██████████| 12604/12604 [01:46<00:00, 117.95it/s, loss=0.0618, acc=95.8]\n",
    "Epoch 49/50 - Train Loss: 0.0618, Train Acc: 95.79%, Val Loss: 0.0481, Val Acc: 95.61%\n",
    "Epoch 50/50: 100%|██████████| 12604/12604 [01:43<00:00, 121.70it/s, loss=0.0623, acc=95.8]\n",
    "Epoch 50/50 - Train Loss: 0.0623, Train Acc: 95.82%, Val Loss: 0.0471, Val Acc: 95.92%\n",
    "Model saved with validation loss: 0.0471\n",
    "\"\"\"\n",
    "\n",
    "# Replace with your actual log content\n",
    "history = extract_metrics_from_logs(log_content)\n",
    "\n",
    "# Plot training history\n",
    "def plot_training_history(history):\n",
    "    \"\"\"Plot and save training history metrics.\"\"\"\n",
    "    # Create figure with 2 subplots\n",
    "    fig, (ax1, ax2) = plt.subplots(2, 1, figsize=(12, 10))\n",
    "    \n",
    "    # Plot losses\n",
    "    ax1.plot(history['train_loss'], label='Training Loss')\n",
    "    ax1.plot(history['val_loss'], label='Validation Loss')\n",
    "    ax1.set_title('Loss Over Epochs')\n",
    "    ax1.set_xlabel('Epoch')\n",
    "    ax1.set_ylabel('Loss')\n",
    "    ax1.legend()\n",
    "    ax1.grid(True)\n",
    "    \n",
    "    # Plot accuracies\n",
    "    ax2.plot(history['train_acc'], label='Training Accuracy')\n",
    "    ax2.plot(history['val_acc'], label='Validation Accuracy')\n",
    "    ax2.set_title('Accuracy Over Epochs')\n",
    "    ax2.set_xlabel('Epoch')\n",
    "    ax2.set_ylabel('Accuracy (%)')\n",
    "    ax2.legend()\n",
    "    ax2.grid(True)\n",
    "    \n",
    "    plt.tight_layout()\n",
    "    plt.savefig(\"training_history.png\", dpi=300, bbox_inches=\"tight\")\n",
    "    print(\"Training history plot saved to 'training_history.png'\")\n",
    "    \n",
    "    # Display the plot if in an interactive environment\n",
    "    plt.show()\n",
    "\n",
    "# Plot the training history\n",
    "plot_training_history(history)\n",
    "\n",
    "# Print final metrics\n",
    "print(f\"Final training accuracy: {history['train_acc'][-1]:.2f}%\")\n",
    "print(f\"Final validation accuracy: {history['val_acc'][-1]:.2f}%\")\n",
    "print(f\"Test accuracy: 95.96%\")  # As provided in your message"
   ]
  },
  {
   "cell_type": "code",
   "execution_count": null,
   "metadata": {},
   "outputs": [],
   "source": [
    "# %pip install torchsummary"
   ]
  },
  {
   "cell_type": "code",
   "execution_count": 28,
   "metadata": {},
   "outputs": [
    {
     "name": "stdout",
     "output_type": "stream",
     "text": [
      "dict_keys(['model_state_dict', 'scaler', 'label_encoder', 'config'])\n"
     ]
    },
    {
     "name": "stderr",
     "output_type": "stream",
     "text": [
      "C:\\Users\\Soham\\AppData\\Local\\Temp\\ipykernel_17668\\552903257.py:1: FutureWarning: You are using `torch.load` with `weights_only=False` (the current default value), which uses the default pickle module implicitly. It is possible to construct malicious pickle data which will execute arbitrary code during unpickling (See https://github.com/pytorch/pytorch/blob/main/SECURITY.md#untrusted-models for more details). In a future release, the default value for `weights_only` will be flipped to `True`. This limits the functions that could be executed during unpickling. Arbitrary objects will no longer be allowed to be loaded via this mode unless they are explicitly allowlisted by the user via `torch.serialization.add_safe_globals`. We recommend you start setting `weights_only=True` for any use case where you don't have full control of the loaded file. Please open an issue on GitHub for any issues related to this experimental feature.\n",
      "  state_dict = torch.load('ids_model.pth')\n"
     ]
    }
   ],
   "source": [
    "state_dict = torch.load('ids_model.pth')\n",
    "print(state_dict.keys())"
   ]
  },
  {
   "cell_type": "markdown",
   "metadata": {},
   "source": [
    "# Model Architecture Summary: Hybrid CNN-BiLSTM for Network Intrusion Detection\n",
    "\n",
    "## Overall Architecture\n",
    "The model combines two parallel networks (CNN and BiLSTM) for feature extraction, followed by feature fusion and classification layers.\n",
    "\n",
    "### 1. CNN Branch\n",
    "- **Input Layer**: Accepts 2D feature maps\n",
    "- **First Convolutional Block**\n",
    "    - Conv2D (32 filters, 3x3 kernel, padding=1)\n",
    "    - Batch Normalization\n",
    "    - ReLU Activation\n",
    "    - MaxPooling (2x2)\n",
    "    - Dropout (25%)\n",
    "- **Second Convolutional Block**\n",
    "    - Conv2D (64 filters, 3x3 kernel, padding=1)\n",
    "    - Batch Normalization\n",
    "    - ReLU Activation\n",
    "    - MaxPooling (2x2)\n",
    "    - Dropout (25%)\n",
    "\n",
    "### 2. BiLSTM Branch\n",
    "- **Input Layer**: Accepts sequential data\n",
    "- **First BiLSTM Layer**\n",
    "    - 64 hidden units (128 total with bidirectional)\n",
    "    - Dropout (30%)\n",
    "- **Second BiLSTM Layer**\n",
    "    - 32 hidden units (64 total with bidirectional)\n",
    "\n",
    "### 3. Feature Fusion\n",
    "- Flatten CNN output\n",
    "- Extract last timestep from BiLSTM\n",
    "- Concatenate CNN and BiLSTM features\n",
    "\n",
    "### 4. Classification Head\n",
    "- Dense Layer (128 units)\n",
    "- ReLU Activation\n",
    "- Dropout (50%)\n",
    "- Output Layer (num_classes units)\n",
    "\n",
    "## Training Configuration\n",
    "- Loss: CrossEntropyLoss with class weights\n",
    "- Optimizer: Adam (lr=0.001)\n",
    "- Learning Rate Scheduler: ReduceLROnPlateau\n",
    "- Mixed Precision Training\n",
    "- Gradient Accumulation (8 steps)\n",
    "- CUDA-enabled for GPU acceleration\n",
    "\n",
    "## Performance\n",
    "- Final Training Accuracy: 95.82%\n",
    "- Final Validation Accuracy: 95.92%\n",
    "- Training Time: ~50 epochs with early stopping"
   ]
  },
  {
   "cell_type": "markdown",
   "metadata": {},
   "source": [
    "### Our model introduces additional regularization through dropout and deeper temporal feature extraction via a second BiLSTM layer, which could improve generalization and temporal modeling compared to the paper's architecture."
   ]
  },
  {
   "cell_type": "markdown",
   "metadata": {},
   "source": []
  }
 ],
 "metadata": {
  "kernelspec": {
   "display_name": "tf",
   "language": "python",
   "name": "tf"
  },
  "language_info": {
   "codemirror_mode": {
    "name": "ipython",
    "version": 3
   },
   "file_extension": ".py",
   "mimetype": "text/x-python",
   "name": "python",
   "nbconvert_exporter": "python",
   "pygments_lexer": "ipython3",
   "version": "3.8.19"
  }
 },
 "nbformat": 4,
 "nbformat_minor": 2
}
