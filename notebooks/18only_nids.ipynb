{
 "cells": [
  {
   "cell_type": "code",
   "execution_count": 1,
   "metadata": {},
   "outputs": [],
   "source": [
    "import pandas as pd\n",
    "import numpy as np\n",
    "import matplotlib.pyplot as plt\n",
    "import seaborn as sns"
   ]
  },
  {
   "cell_type": "code",
   "execution_count": 5,
   "metadata": {},
   "outputs": [
    {
     "name": "stdout",
     "output_type": "stream",
     "text": [
      "C:\\Users\\athar\\Downloads\\cicids18\\02-14-2018.csv\n",
      "C:\\Users\\athar\\Downloads\\cicids18\\02-15-2018.csv\n",
      "C:\\Users\\athar\\Downloads\\cicids18\\02-16-2018.csv\n",
      "C:\\Users\\athar\\Downloads\\cicids18\\02-21-2018.csv\n",
      "C:\\Users\\athar\\Downloads\\cicids18\\02-22-2018.csv\n",
      "C:\\Users\\athar\\Downloads\\cicids18\\02-23-2018.csv\n",
      "C:\\Users\\athar\\Downloads\\cicids18\\02-28-2018.csv\n",
      "C:\\Users\\athar\\Downloads\\cicids18\\03-01-2018.csv\n",
      "C:\\Users\\athar\\Downloads\\cicids18\\03-02-2018.csv\n"
     ]
    }
   ],
   "source": [
    "import os\n",
    "for dirname, _, filenames in os.walk('C:\\\\Users\\\\athar\\\\Downloads\\\\cicids18'):\n",
    "    for filename in filenames:\n",
    "        print(os.path.join(dirname, filename))"
   ]
  },
  {
   "cell_type": "code",
   "execution_count": 10,
   "metadata": {},
   "outputs": [
    {
     "name": "stderr",
     "output_type": "stream",
     "text": [
      "C:\\Users\\athar\\AppData\\Local\\Temp\\ipykernel_8040\\2255103397.py:4: DtypeWarning: Columns (0,1,3,4,5,6,7,8,9,10,11,12,13,14,15,16,17,18,19,20,21,22,23,24,25,26,27,28,29,30,31,32,33,34,35,36,37,38,39,40,41,42,43,44,45,46,47,48,49,50,51,52,53,54,55,56,57,58,59,60,61,62,63,64,65,66,67,68,69,70,71,72,73,74,75,76,77,78) have mixed types. Specify dtype option on import or set low_memory=False.\n",
      "  pd.read_csv('C:\\\\Users\\\\athar\\\\Downloads\\\\cicids18\\\\03-01-2018.csv'),\n"
     ]
    }
   ],
   "source": [
    "dataset_list = [\n",
    "    pd.read_csv('C:\\\\Users\\\\athar\\\\Downloads\\\\cicids18\\\\02-14-2018.csv'),\n",
    "    pd.read_csv('C:\\\\Users\\\\athar\\\\Downloads\\\\cicids18\\\\02-23-2018.csv'),\n",
    "    pd.read_csv('C:\\\\Users\\\\athar\\\\Downloads\\\\cicids18\\\\03-01-2018.csv'),\n",
    "    pd.read_csv('C:\\\\Users\\\\athar\\\\Downloads\\\\cicids18\\\\03-02-2018.csv')\n",
    "]\n"
   ]
  },
  {
   "cell_type": "code",
   "execution_count": 11,
   "metadata": {},
   "outputs": [],
   "source": [
    "df = pd.concat(dataset_list, ignore_index=True, axis=0)\n",
    "del dataset_list # To save memory"
   ]
  },
  {
   "cell_type": "code",
   "execution_count": 12,
   "metadata": {},
   "outputs": [
    {
     "data": {
      "text/html": [
       "<div>\n",
       "<style scoped>\n",
       "    .dataframe tbody tr th:only-of-type {\n",
       "        vertical-align: middle;\n",
       "    }\n",
       "\n",
       "    .dataframe tbody tr th {\n",
       "        vertical-align: top;\n",
       "    }\n",
       "\n",
       "    .dataframe thead th {\n",
       "        text-align: right;\n",
       "    }\n",
       "</style>\n",
       "<table border=\"1\" class=\"dataframe\">\n",
       "  <thead>\n",
       "    <tr style=\"text-align: right;\">\n",
       "      <th></th>\n",
       "      <th>Dst Port</th>\n",
       "      <th>Protocol</th>\n",
       "      <th>Timestamp</th>\n",
       "      <th>Flow Duration</th>\n",
       "      <th>Tot Fwd Pkts</th>\n",
       "      <th>Tot Bwd Pkts</th>\n",
       "      <th>TotLen Fwd Pkts</th>\n",
       "      <th>TotLen Bwd Pkts</th>\n",
       "      <th>Fwd Pkt Len Max</th>\n",
       "      <th>Fwd Pkt Len Min</th>\n",
       "      <th>...</th>\n",
       "      <th>Fwd Seg Size Min</th>\n",
       "      <th>Active Mean</th>\n",
       "      <th>Active Std</th>\n",
       "      <th>Active Max</th>\n",
       "      <th>Active Min</th>\n",
       "      <th>Idle Mean</th>\n",
       "      <th>Idle Std</th>\n",
       "      <th>Idle Max</th>\n",
       "      <th>Idle Min</th>\n",
       "      <th>Label</th>\n",
       "    </tr>\n",
       "  </thead>\n",
       "  <tbody>\n",
       "    <tr>\n",
       "      <th>0</th>\n",
       "      <td>0</td>\n",
       "      <td>0</td>\n",
       "      <td>14/02/2018 08:31:01</td>\n",
       "      <td>112641719</td>\n",
       "      <td>3</td>\n",
       "      <td>0</td>\n",
       "      <td>0</td>\n",
       "      <td>0</td>\n",
       "      <td>0</td>\n",
       "      <td>0</td>\n",
       "      <td>...</td>\n",
       "      <td>0</td>\n",
       "      <td>0.0</td>\n",
       "      <td>0.0</td>\n",
       "      <td>0</td>\n",
       "      <td>0</td>\n",
       "      <td>56320859.5</td>\n",
       "      <td>139.300036</td>\n",
       "      <td>56320958</td>\n",
       "      <td>56320761</td>\n",
       "      <td>Benign</td>\n",
       "    </tr>\n",
       "    <tr>\n",
       "      <th>1</th>\n",
       "      <td>0</td>\n",
       "      <td>0</td>\n",
       "      <td>14/02/2018 08:33:50</td>\n",
       "      <td>112641466</td>\n",
       "      <td>3</td>\n",
       "      <td>0</td>\n",
       "      <td>0</td>\n",
       "      <td>0</td>\n",
       "      <td>0</td>\n",
       "      <td>0</td>\n",
       "      <td>...</td>\n",
       "      <td>0</td>\n",
       "      <td>0.0</td>\n",
       "      <td>0.0</td>\n",
       "      <td>0</td>\n",
       "      <td>0</td>\n",
       "      <td>56320733.0</td>\n",
       "      <td>114.551299</td>\n",
       "      <td>56320814</td>\n",
       "      <td>56320652</td>\n",
       "      <td>Benign</td>\n",
       "    </tr>\n",
       "    <tr>\n",
       "      <th>2</th>\n",
       "      <td>0</td>\n",
       "      <td>0</td>\n",
       "      <td>14/02/2018 08:36:39</td>\n",
       "      <td>112638623</td>\n",
       "      <td>3</td>\n",
       "      <td>0</td>\n",
       "      <td>0</td>\n",
       "      <td>0</td>\n",
       "      <td>0</td>\n",
       "      <td>0</td>\n",
       "      <td>...</td>\n",
       "      <td>0</td>\n",
       "      <td>0.0</td>\n",
       "      <td>0.0</td>\n",
       "      <td>0</td>\n",
       "      <td>0</td>\n",
       "      <td>56319311.5</td>\n",
       "      <td>301.934596</td>\n",
       "      <td>56319525</td>\n",
       "      <td>56319098</td>\n",
       "      <td>Benign</td>\n",
       "    </tr>\n",
       "    <tr>\n",
       "      <th>3</th>\n",
       "      <td>22</td>\n",
       "      <td>6</td>\n",
       "      <td>14/02/2018 08:40:13</td>\n",
       "      <td>6453966</td>\n",
       "      <td>15</td>\n",
       "      <td>10</td>\n",
       "      <td>1239</td>\n",
       "      <td>2273</td>\n",
       "      <td>744</td>\n",
       "      <td>0</td>\n",
       "      <td>...</td>\n",
       "      <td>32</td>\n",
       "      <td>0.0</td>\n",
       "      <td>0.0</td>\n",
       "      <td>0</td>\n",
       "      <td>0</td>\n",
       "      <td>0.0</td>\n",
       "      <td>0.0</td>\n",
       "      <td>0</td>\n",
       "      <td>0</td>\n",
       "      <td>Benign</td>\n",
       "    </tr>\n",
       "    <tr>\n",
       "      <th>4</th>\n",
       "      <td>22</td>\n",
       "      <td>6</td>\n",
       "      <td>14/02/2018 08:40:23</td>\n",
       "      <td>8804066</td>\n",
       "      <td>14</td>\n",
       "      <td>11</td>\n",
       "      <td>1143</td>\n",
       "      <td>2209</td>\n",
       "      <td>744</td>\n",
       "      <td>0</td>\n",
       "      <td>...</td>\n",
       "      <td>32</td>\n",
       "      <td>0.0</td>\n",
       "      <td>0.0</td>\n",
       "      <td>0</td>\n",
       "      <td>0</td>\n",
       "      <td>0.0</td>\n",
       "      <td>0.0</td>\n",
       "      <td>0</td>\n",
       "      <td>0</td>\n",
       "      <td>Benign</td>\n",
       "    </tr>\n",
       "  </tbody>\n",
       "</table>\n",
       "<p>5 rows × 80 columns</p>\n",
       "</div>"
      ],
      "text/plain": [
       "  Dst Port Protocol            Timestamp Flow Duration Tot Fwd Pkts  \\\n",
       "0        0        0  14/02/2018 08:31:01     112641719            3   \n",
       "1        0        0  14/02/2018 08:33:50     112641466            3   \n",
       "2        0        0  14/02/2018 08:36:39     112638623            3   \n",
       "3       22        6  14/02/2018 08:40:13       6453966           15   \n",
       "4       22        6  14/02/2018 08:40:23       8804066           14   \n",
       "\n",
       "  Tot Bwd Pkts TotLen Fwd Pkts TotLen Bwd Pkts Fwd Pkt Len Max  \\\n",
       "0            0               0               0               0   \n",
       "1            0               0               0               0   \n",
       "2            0               0               0               0   \n",
       "3           10            1239            2273             744   \n",
       "4           11            1143            2209             744   \n",
       "\n",
       "  Fwd Pkt Len Min  ... Fwd Seg Size Min Active Mean Active Std Active Max  \\\n",
       "0               0  ...                0         0.0        0.0          0   \n",
       "1               0  ...                0         0.0        0.0          0   \n",
       "2               0  ...                0         0.0        0.0          0   \n",
       "3               0  ...               32         0.0        0.0          0   \n",
       "4               0  ...               32         0.0        0.0          0   \n",
       "\n",
       "  Active Min   Idle Mean    Idle Std  Idle Max  Idle Min   Label  \n",
       "0          0  56320859.5  139.300036  56320958  56320761  Benign  \n",
       "1          0  56320733.0  114.551299  56320814  56320652  Benign  \n",
       "2          0  56319311.5  301.934596  56319525  56319098  Benign  \n",
       "3          0         0.0         0.0         0         0  Benign  \n",
       "4          0         0.0         0.0         0         0  Benign  \n",
       "\n",
       "[5 rows x 80 columns]"
      ]
     },
     "execution_count": 12,
     "metadata": {},
     "output_type": "execute_result"
    }
   ],
   "source": [
    "df.head()"
   ]
  },
  {
   "cell_type": "code",
   "execution_count": 13,
   "metadata": {},
   "outputs": [
    {
     "data": {
      "text/plain": [
       "(3476850, 80)"
      ]
     },
     "execution_count": 13,
     "metadata": {},
     "output_type": "execute_result"
    }
   ],
   "source": [
    "df.shape"
   ]
  },
  {
   "cell_type": "code",
   "execution_count": 14,
   "metadata": {},
   "outputs": [
    {
     "name": "stdout",
     "output_type": "stream",
     "text": [
      "<class 'pandas.core.frame.DataFrame'>\n",
      "RangeIndex: 3476850 entries, 0 to 3476849\n",
      "Data columns (total 80 columns):\n",
      " #   Column             Dtype \n",
      "---  ------             ----- \n",
      " 0   Dst Port           object\n",
      " 1   Protocol           object\n",
      " 2   Timestamp          object\n",
      " 3   Flow Duration      object\n",
      " 4   Tot Fwd Pkts       object\n",
      " 5   Tot Bwd Pkts       object\n",
      " 6   TotLen Fwd Pkts    object\n",
      " 7   TotLen Bwd Pkts    object\n",
      " 8   Fwd Pkt Len Max    object\n",
      " 9   Fwd Pkt Len Min    object\n",
      " 10  Fwd Pkt Len Mean   object\n",
      " 11  Fwd Pkt Len Std    object\n",
      " 12  Bwd Pkt Len Max    object\n",
      " 13  Bwd Pkt Len Min    object\n",
      " 14  Bwd Pkt Len Mean   object\n",
      " 15  Bwd Pkt Len Std    object\n",
      " 16  Flow Byts/s        object\n",
      " 17  Flow Pkts/s        object\n",
      " 18  Flow IAT Mean      object\n",
      " 19  Flow IAT Std       object\n",
      " 20  Flow IAT Max       object\n",
      " 21  Flow IAT Min       object\n",
      " 22  Fwd IAT Tot        object\n",
      " 23  Fwd IAT Mean       object\n",
      " 24  Fwd IAT Std        object\n",
      " 25  Fwd IAT Max        object\n",
      " 26  Fwd IAT Min        object\n",
      " 27  Bwd IAT Tot        object\n",
      " 28  Bwd IAT Mean       object\n",
      " 29  Bwd IAT Std        object\n",
      " 30  Bwd IAT Max        object\n",
      " 31  Bwd IAT Min        object\n",
      " 32  Fwd PSH Flags      object\n",
      " 33  Bwd PSH Flags      object\n",
      " 34  Fwd URG Flags      object\n",
      " 35  Bwd URG Flags      object\n",
      " 36  Fwd Header Len     object\n",
      " 37  Bwd Header Len     object\n",
      " 38  Fwd Pkts/s         object\n",
      " 39  Bwd Pkts/s         object\n",
      " 40  Pkt Len Min        object\n",
      " 41  Pkt Len Max        object\n",
      " 42  Pkt Len Mean       object\n",
      " 43  Pkt Len Std        object\n",
      " 44  Pkt Len Var        object\n",
      " 45  FIN Flag Cnt       object\n",
      " 46  SYN Flag Cnt       object\n",
      " 47  RST Flag Cnt       object\n",
      " 48  PSH Flag Cnt       object\n",
      " 49  ACK Flag Cnt       object\n",
      " 50  URG Flag Cnt       object\n",
      " 51  CWE Flag Count     object\n",
      " 52  ECE Flag Cnt       object\n",
      " 53  Down/Up Ratio      object\n",
      " 54  Pkt Size Avg       object\n",
      " 55  Fwd Seg Size Avg   object\n",
      " 56  Bwd Seg Size Avg   object\n",
      " 57  Fwd Byts/b Avg     object\n",
      " 58  Fwd Pkts/b Avg     object\n",
      " 59  Fwd Blk Rate Avg   object\n",
      " 60  Bwd Byts/b Avg     object\n",
      " 61  Bwd Pkts/b Avg     object\n",
      " 62  Bwd Blk Rate Avg   object\n",
      " 63  Subflow Fwd Pkts   object\n",
      " 64  Subflow Fwd Byts   object\n",
      " 65  Subflow Bwd Pkts   object\n",
      " 66  Subflow Bwd Byts   object\n",
      " 67  Init Fwd Win Byts  object\n",
      " 68  Init Bwd Win Byts  object\n",
      " 69  Fwd Act Data Pkts  object\n",
      " 70  Fwd Seg Size Min   object\n",
      " 71  Active Mean        object\n",
      " 72  Active Std         object\n",
      " 73  Active Max         object\n",
      " 74  Active Min         object\n",
      " 75  Idle Mean          object\n",
      " 76  Idle Std           object\n",
      " 77  Idle Max           object\n",
      " 78  Idle Min           object\n",
      " 79  Label              object\n",
      "dtypes: object(80)\n",
      "memory usage: 2.1+ GB\n"
     ]
    }
   ],
   "source": [
    "df.info()"
   ]
  },
  {
   "cell_type": "code",
   "execution_count": 15,
   "metadata": {},
   "outputs": [
    {
     "data": {
      "text/plain": [
       "Dst Port         0\n",
       "Protocol         0\n",
       "Timestamp        0\n",
       "Flow Duration    0\n",
       "Tot Fwd Pkts     0\n",
       "                ..\n",
       "Idle Mean        0\n",
       "Idle Std         0\n",
       "Idle Max         0\n",
       "Idle Min         0\n",
       "Label            0\n",
       "Length: 80, dtype: int64"
      ]
     },
     "execution_count": 15,
     "metadata": {},
     "output_type": "execute_result"
    }
   ],
   "source": [
    "df.isna().sum()"
   ]
  },
  {
   "cell_type": "code",
   "execution_count": 16,
   "metadata": {},
   "outputs": [
    {
     "name": "stdout",
     "output_type": "stream",
     "text": [
      "Label\n",
      "Benign              2716056\n",
      "Bot                  286191\n",
      "FTP-BruteForce       193360\n",
      "SSH-Bruteforce       187589\n",
      "Infilteration         93063\n",
      "Brute Force -Web        362\n",
      "Brute Force -XSS        151\n",
      "SQL Injection            53\n",
      "Label                    25\n",
      "Name: count, dtype: int64\n"
     ]
    },
    {
     "name": "stderr",
     "output_type": "stream",
     "text": [
      "C:\\Users\\athar\\AppData\\Local\\Temp\\ipykernel_8040\\776611456.py:11: FutureWarning: \n",
      "\n",
      "Passing `palette` without assigning `hue` is deprecated and will be removed in v0.14.0. Assign the `x` variable to `hue` and set `legend=False` for the same effect.\n",
      "\n",
      "  sns.barplot(x=label_counts.index, y=label_counts.values, palette='viridis')\n"
     ]
    },
    {
     "data": {
      "image/png": "[encoded data removed]",
      "text/plain": [
       "<Figure size 1000x500 with 1 Axes>"
      ]
     },
     "metadata": {},
     "output_type": "display_data"
    }
   ],
   "source": [
    "import matplotlib.pyplot as plt\n",
    "import seaborn as sns\n",
    "\n",
    "# Count unique labels\n",
    "label_counts = df['Label'].value_counts()\n",
    "\n",
    "print(label_counts)\n",
    "\n",
    "# Plot the distribution\n",
    "plt.figure(figsize=(10, 5))\n",
    "sns.barplot(x=label_counts.index, y=label_counts.values, palette='viridis')\n",
    "plt.xlabel(\"Label\")\n",
    "plt.ylabel(\"Count\")\n",
    "plt.title(\"Distribution of Labels in Dataset\")\n",
    "plt.xticks(rotation=45)  # Rotate labels for better visibility if needed\n",
    "plt.show()"
   ]
  },
  {
   "cell_type": "code",
   "execution_count": 17,
   "metadata": {},
   "outputs": [],
   "source": [
    "X = df.drop(columns=['Label'], axis=1)\n",
    "y = df['Label']"
   ]
  },
  {
   "cell_type": "code",
   "execution_count": null,
   "metadata": {},
   "outputs": [],
   "source": []
  }
 ],
 "metadata": {
  "kernelspec": {
   "display_name": "Python 3",
   "language": "python",
   "name": "python3"
  },
  "language_info": {
   "codemirror_mode": {
    "name": "ipython",
    "version": 3
   },
   "file_extension": ".py",
   "mimetype": "text/x-python",
   "name": "python",
   "nbconvert_exporter": "python",
   "pygments_lexer": "ipython3",
   "version": "3.11.4"
  }
 },
 "nbformat": 4,
 "nbformat_minor": 2
}
